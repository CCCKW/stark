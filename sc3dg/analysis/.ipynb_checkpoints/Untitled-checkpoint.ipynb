{
 "cells": [
  {
   "cell_type": "code",
   "execution_count": 1,
   "id": "d7aa7812",
   "metadata": {
    "ExecuteTime": {
     "end_time": "2024-06-11T12:08:24.144198Z",
     "start_time": "2024-06-11T12:08:20.604263Z"
    }
   },
   "outputs": [],
   "source": [
    "from api import MMCooler\n",
    "import cooler\n",
    "import os\n",
    "import numpy as np\n",
    "import cooltools\n",
    "import pandas as pd"
   ]
  },
  {
   "cell_type": "code",
   "execution_count": 2,
   "id": "f4d17de7",
   "metadata": {
    "ExecuteTime": {
     "end_time": "2024-06-11T12:08:24.152007Z",
     "start_time": "2024-06-11T12:08:24.145457Z"
    }
   },
   "outputs": [],
   "source": [
    "data=cooler.Cooler('/Users/ckw/Desktop/project/strake/k562.cool')"
   ]
  },
  {
   "cell_type": "code",
   "execution_count": 4,
   "id": "0ce56b98",
   "metadata": {
    "ExecuteTime": {
     "end_time": "2024-06-11T12:09:04.520181Z",
     "start_time": "2024-06-11T12:08:34.062824Z"
    }
   },
   "outputs": [],
   "source": [
    "data = data.pixels()[:]"
   ]
  },
  {
   "cell_type": "code",
   "execution_count": 5,
   "id": "5195712c",
   "metadata": {
    "ExecuteTime": {
     "end_time": "2024-06-11T12:09:25.164008Z",
     "start_time": "2024-06-11T12:09:04.523538Z"
    }
   },
   "outputs": [],
   "source": [
    "data = data[data['bin1_id']!=data['bin2_id']]"
   ]
  },
  {
   "cell_type": "code",
   "execution_count": 8,
   "id": "6edc8302",
   "metadata": {
    "ExecuteTime": {
     "end_time": "2024-06-11T12:10:24.555628Z",
     "start_time": "2024-06-11T12:10:20.973258Z"
    }
   },
   "outputs": [
    {
     "data": {
      "text/plain": [
       "<Figure size 500x500 with 0 Axes>"
      ]
     },
     "metadata": {},
     "output_type": "display_data"
    }
   ],
   "source": [
    "\n",
    "clr =cooler.Cooler('/Users/ckw/Desktop/project/strake/k562.cool')\n",
    "cc='chr1'\n",
    "\n",
    "#     os.makedirs('./%s_1' %ss, exist_ok=True)\n",
    "fig = plt.figure(figsize=(5, 5),dpi=100)\n",
    "\n",
    "matrix = clr.matrix(balance=False).fetch(cc)\n",
    "#     win= matrix.shape[0]//2\n",
    "#     s =5\n",
    "\n",
    "\n"
   ]
  },
  {
   "cell_type": "code",
   "execution_count": null,
   "id": "ffcc7acc",
   "metadata": {},
   "outputs": [],
   "source": []
  },
  {
   "cell_type": "code",
   "execution_count": 13,
   "id": "d6b5cedc",
   "metadata": {
    "ExecuteTime": {
     "end_time": "2024-06-11T12:11:41.417677Z",
     "start_time": "2024-06-11T12:11:41.271121Z"
    }
   },
   "outputs": [
    {
     "data": {
      "text/plain": [
       "([], [])"
      ]
     },
     "execution_count": 13,
     "metadata": {},
     "output_type": "execute_result"
    },
    {
     "data": {
      "image/png": "[encoded data removed]",
      "text/plain": [
       "<Figure size 640x480 with 1 Axes>"
      ]
     },
     "metadata": {},
     "output_type": "display_data"
    }
   ],
   "source": [
    "win= 100\n",
    "s = 2\n",
    "# normlize\n",
    "# mask = \n",
    "tmp = matrix[s:s+win,s:s+win]\n",
    "np.fill_diagonal(tmp, 0)\n",
    "np.fill_diagonal(tmp[1:,:], 0)\n",
    "np.fill_diagonal(tmp[:,1:], 0)\n",
    "plt.imshow(tmp, cmap='gist_heat_r' )\n",
    "# plt.colorbar()\n",
    "# 所有边框都不要\n",
    "# plt.axhline(y=70, c='green', ls='-.')\n",
    "# plt.axhline(y=80, c='green', ls='-.')\n",
    "# plt.axhline(y=210, c='green', ls='-.')\n",
    "n = tmp.shape[0]\n",
    "switch = 20\n",
    "# plt.plot([0, n], [0, n], linestyle='--', color='blue')  # 对角线\n",
    "# plt.plot([switch, n], [0, n-switch], linestyle='--', color='blue')\n",
    "plt.ylim(n,0)\n",
    "plt.xlim(0,n)\n",
    "plt.xticks([])\n",
    "plt.yticks([])"
   ]
  },
  {
   "cell_type": "code",
   "execution_count": 55,
   "id": "085bb7ae",
   "metadata": {
    "ExecuteTime": {
     "end_time": "2024-06-11T12:05:17.081080Z",
     "start_time": "2024-06-11T12:05:17.075942Z"
    }
   },
   "outputs": [],
   "source": [
    "tmp"
   ]
  },
  {
   "cell_type": "code",
   "execution_count": null,
   "id": "ebba6bfc",
   "metadata": {},
   "outputs": [],
   "source": []
  },
  {
   "cell_type": "code",
   "execution_count": null,
   "id": "f78c120b",
   "metadata": {},
   "outputs": [],
   "source": []
  },
  {
   "cell_type": "code",
   "execution_count": 2,
   "id": "3021aef4",
   "metadata": {
    "ExecuteTime": {
     "end_time": "2024-06-11T10:56:45.828827Z",
     "start_time": "2024-06-11T10:56:39.671187Z"
    }
   },
   "outputs": [
    {
     "name": "stdout",
     "output_type": "stream",
     "text": [
      "run nomerge mode\n",
      "binning the raw mcool files\n",
      "reading the binned mcool files\n",
      "10000\n",
      "40000\n",
      "1000000\n"
     ]
    }
   ],
   "source": [
    "data = MMCooler(directory = '/Users/ckw/warehouse/white/data/dipC/human/', \n",
    "                resolution=[10000, 40000, 1000000],\n",
    "                merge=False,\n",
    "                genome='hg38',\n",
    "                describe='a',\n",
    "                n_jobs=10)"
   ]
  },
  {
   "cell_type": "code",
   "execution_count": 4,
   "id": "0c7314ae",
   "metadata": {
    "ExecuteTime": {
     "end_time": "2024-06-11T11:01:05.418262Z",
     "start_time": "2024-06-11T11:01:05.412312Z"
    }
   },
   "outputs": [
    {
     "data": {
      "text/plain": [
       "['/Users/ckw/warehouse/white/data/dipC/human//SRR7226705.mcool',\n",
       " '/Users/ckw/warehouse/white/data/dipC/human//SRR7226701.mcool',\n",
       " '/Users/ckw/warehouse/white/data/dipC/human//SRR7226699.mcool',\n",
       " '/Users/ckw/warehouse/white/data/dipC/human//SRR7226698.mcool',\n",
       " '/Users/ckw/warehouse/white/data/dipC/human//SRR7226702.mcool',\n",
       " '/Users/ckw/warehouse/white/data/dipC/human//SRR7226696.mcool',\n",
       " '/Users/ckw/warehouse/white/data/dipC/human//SRR7226695.mcool',\n",
       " '/Users/ckw/warehouse/white/data/dipC/human//SRR7226697.mcool']"
      ]
     },
     "execution_count": 4,
     "metadata": {},
     "output_type": "execute_result"
    }
   ],
   "source": [
    "data.mcool_files"
   ]
  },
  {
   "cell_type": "code",
   "execution_count": 3,
   "id": "787c931d",
   "metadata": {
    "ExecuteTime": {
     "end_time": "2024-06-11T10:57:19.528511Z",
     "start_time": "2024-06-11T10:56:45.833126Z"
    }
   },
   "outputs": [],
   "source": [
    "data.save('./test',worker=1)"
   ]
  },
  {
   "cell_type": "code",
   "execution_count": 6,
   "id": "47854035",
   "metadata": {
    "ExecuteTime": {
     "end_time": "2024-06-11T10:50:58.818658Z",
     "start_time": "2024-06-11T10:50:58.792924Z"
    }
   },
   "outputs": [
    {
     "data": {
      "text/plain": [
       "['SRR7226705',\n",
       " 'SRR7226701',\n",
       " 'SRR7226699',\n",
       " 'SRR7226698',\n",
       " 'SRR7226702',\n",
       " 'SRR7226696',\n",
       " 'SRR7226695',\n",
       " 'SRR7226697']"
      ]
     },
     "execution_count": 6,
     "metadata": {},
     "output_type": "execute_result"
    }
   ],
   "source": [
    "data.mcool_names"
   ]
  },
  {
   "cell_type": "code",
   "execution_count": 5,
   "id": "9eaca885",
   "metadata": {
    "ExecuteTime": {
     "end_time": "2024-06-11T10:43:16.924294Z",
     "start_time": "2024-06-11T10:43:13.165890Z"
    }
   },
   "outputs": [
    {
     "data": {
      "image/png": "[encoded data removed]",
      "text/plain": [
       "<Figure size 1000x600 with 1 Axes>"
      ]
     },
     "metadata": {},
     "output_type": "display_data"
    }
   ],
   "source": [
    "df = data.plot_range()"
   ]
  },
  {
   "cell_type": "code",
   "execution_count": null,
   "id": "84332c6a",
   "metadata": {},
   "outputs": [],
   "source": []
  },
  {
   "cell_type": "code",
   "execution_count": 3,
   "id": "b74ae6c3",
   "metadata": {
    "ExecuteTime": {
     "end_time": "2024-06-11T10:12:56.970793Z",
     "start_time": "2024-06-11T10:12:56.609192Z"
    }
   },
   "outputs": [
    {
     "data": {
      "image/png": "[encoded data removed]",
      "text/plain": [
       "<Figure size 1000x600 with 1 Axes>"
      ]
     },
     "metadata": {},
     "output_type": "display_data"
    }
   ],
   "source": [
    "df = data.plot_coverage()"
   ]
  },
  {
   "cell_type": "code",
   "execution_count": 4,
   "id": "f97b8ce0",
   "metadata": {
    "ExecuteTime": {
     "end_time": "2024-06-11T10:02:52.811998Z",
     "start_time": "2024-06-11T10:02:52.799996Z"
    }
   },
   "outputs": [
    {
     "data": {
      "text/html": [
       "<div>\n",
       "<style scoped>\n",
       "    .dataframe tbody tr th:only-of-type {\n",
       "        vertical-align: middle;\n",
       "    }\n",
       "\n",
       "    .dataframe tbody tr th {\n",
       "        vertical-align: top;\n",
       "    }\n",
       "\n",
       "    .dataframe thead th {\n",
       "        text-align: right;\n",
       "    }\n",
       "</style>\n",
       "<table border=\"1\" class=\"dataframe\">\n",
       "  <thead>\n",
       "    <tr style=\"text-align: right;\">\n",
       "      <th></th>\n",
       "      <th>coverage</th>\n",
       "      <th>resolution</th>\n",
       "    </tr>\n",
       "  </thead>\n",
       "  <tbody>\n",
       "    <tr>\n",
       "      <th>0</th>\n",
       "      <td>1.0</td>\n",
       "      <td>10000</td>\n",
       "    </tr>\n",
       "    <tr>\n",
       "      <th>1</th>\n",
       "      <td>1.0</td>\n",
       "      <td>10000</td>\n",
       "    </tr>\n",
       "    <tr>\n",
       "      <th>2</th>\n",
       "      <td>1.0</td>\n",
       "      <td>10000</td>\n",
       "    </tr>\n",
       "    <tr>\n",
       "      <th>3</th>\n",
       "      <td>1.0</td>\n",
       "      <td>10000</td>\n",
       "    </tr>\n",
       "    <tr>\n",
       "      <th>4</th>\n",
       "      <td>1.0</td>\n",
       "      <td>10000</td>\n",
       "    </tr>\n",
       "    <tr>\n",
       "      <th>5</th>\n",
       "      <td>1.0</td>\n",
       "      <td>10000</td>\n",
       "    </tr>\n",
       "    <tr>\n",
       "      <th>6</th>\n",
       "      <td>1.0</td>\n",
       "      <td>10000</td>\n",
       "    </tr>\n",
       "    <tr>\n",
       "      <th>7</th>\n",
       "      <td>1.0</td>\n",
       "      <td>10000</td>\n",
       "    </tr>\n",
       "    <tr>\n",
       "      <th>8</th>\n",
       "      <td>1.0</td>\n",
       "      <td>40000</td>\n",
       "    </tr>\n",
       "    <tr>\n",
       "      <th>9</th>\n",
       "      <td>1.0</td>\n",
       "      <td>40000</td>\n",
       "    </tr>\n",
       "    <tr>\n",
       "      <th>10</th>\n",
       "      <td>1.0</td>\n",
       "      <td>40000</td>\n",
       "    </tr>\n",
       "    <tr>\n",
       "      <th>11</th>\n",
       "      <td>1.0</td>\n",
       "      <td>40000</td>\n",
       "    </tr>\n",
       "    <tr>\n",
       "      <th>12</th>\n",
       "      <td>1.0</td>\n",
       "      <td>40000</td>\n",
       "    </tr>\n",
       "    <tr>\n",
       "      <th>13</th>\n",
       "      <td>1.0</td>\n",
       "      <td>40000</td>\n",
       "    </tr>\n",
       "    <tr>\n",
       "      <th>14</th>\n",
       "      <td>1.0</td>\n",
       "      <td>40000</td>\n",
       "    </tr>\n",
       "    <tr>\n",
       "      <th>15</th>\n",
       "      <td>1.0</td>\n",
       "      <td>40000</td>\n",
       "    </tr>\n",
       "    <tr>\n",
       "      <th>16</th>\n",
       "      <td>1.0</td>\n",
       "      <td>1000000</td>\n",
       "    </tr>\n",
       "    <tr>\n",
       "      <th>17</th>\n",
       "      <td>1.0</td>\n",
       "      <td>1000000</td>\n",
       "    </tr>\n",
       "    <tr>\n",
       "      <th>18</th>\n",
       "      <td>1.0</td>\n",
       "      <td>1000000</td>\n",
       "    </tr>\n",
       "    <tr>\n",
       "      <th>19</th>\n",
       "      <td>1.0</td>\n",
       "      <td>1000000</td>\n",
       "    </tr>\n",
       "    <tr>\n",
       "      <th>20</th>\n",
       "      <td>1.0</td>\n",
       "      <td>1000000</td>\n",
       "    </tr>\n",
       "    <tr>\n",
       "      <th>21</th>\n",
       "      <td>1.0</td>\n",
       "      <td>1000000</td>\n",
       "    </tr>\n",
       "    <tr>\n",
       "      <th>22</th>\n",
       "      <td>1.0</td>\n",
       "      <td>1000000</td>\n",
       "    </tr>\n",
       "    <tr>\n",
       "      <th>23</th>\n",
       "      <td>1.0</td>\n",
       "      <td>1000000</td>\n",
       "    </tr>\n",
       "  </tbody>\n",
       "</table>\n",
       "</div>"
      ],
      "text/plain": [
       "    coverage  resolution\n",
       "0        1.0       10000\n",
       "1        1.0       10000\n",
       "2        1.0       10000\n",
       "3        1.0       10000\n",
       "4        1.0       10000\n",
       "5        1.0       10000\n",
       "6        1.0       10000\n",
       "7        1.0       10000\n",
       "8        1.0       40000\n",
       "9        1.0       40000\n",
       "10       1.0       40000\n",
       "11       1.0       40000\n",
       "12       1.0       40000\n",
       "13       1.0       40000\n",
       "14       1.0       40000\n",
       "15       1.0       40000\n",
       "16       1.0     1000000\n",
       "17       1.0     1000000\n",
       "18       1.0     1000000\n",
       "19       1.0     1000000\n",
       "20       1.0     1000000\n",
       "21       1.0     1000000\n",
       "22       1.0     1000000\n",
       "23       1.0     1000000"
      ]
     },
     "execution_count": 4,
     "metadata": {},
     "output_type": "execute_result"
    }
   ],
   "source": [
    "df"
   ]
  },
  {
   "cell_type": "code",
   "execution_count": null,
   "id": "6dd15283",
   "metadata": {},
   "outputs": [],
   "source": []
  },
  {
   "cell_type": "code",
   "execution_count": null,
   "id": "1895d0cb",
   "metadata": {},
   "outputs": [],
   "source": []
  },
  {
   "cell_type": "code",
   "execution_count": null,
   "id": "52f0535d",
   "metadata": {},
   "outputs": [],
   "source": []
  },
  {
   "cell_type": "code",
   "execution_count": null,
   "id": "c417a22f",
   "metadata": {},
   "outputs": [],
   "source": []
  },
  {
   "cell_type": "code",
   "execution_count": null,
   "id": "04defbc8",
   "metadata": {},
   "outputs": [],
   "source": []
  },
  {
   "cell_type": "code",
   "execution_count": 3,
   "id": "2ea63dd3",
   "metadata": {
    "ExecuteTime": {
     "end_time": "2024-06-10T09:32:39.690307Z",
     "start_time": "2024-06-10T09:32:39.381999Z"
    }
   },
   "outputs": [
    {
     "name": "stdout",
     "output_type": "stream",
     "text": [
      "0.001639091772073411\n",
      "0.0011326246051785172\n",
      "0.0028226955669174957\n",
      "0.003666068682906585\n",
      "0.0023838312384921595\n",
      "0.0024802484015553038\n",
      "0.00318065813783008\n",
      "0.0032549104358212365\n"
     ]
    }
   ],
   "source": [
    "cen =data.get_Centromere_nDs(res=1000000, epoch=1)"
   ]
  },
  {
   "cell_type": "code",
   "execution_count": 4,
   "id": "67e494fd",
   "metadata": {
    "ExecuteTime": {
     "end_time": "2024-06-10T09:32:50.338582Z",
     "start_time": "2024-06-10T09:32:50.327699Z"
    }
   },
   "outputs": [
    {
     "data": {
      "text/plain": [
       "[0.001639091772073411,\n",
       " 0.0011326246051785172,\n",
       " 0.0028226955669174957,\n",
       " 0.003666068682906585,\n",
       " 0.0023838312384921595,\n",
       " 0.0024802484015553038,\n",
       " 0.00318065813783008,\n",
       " 0.0032549104358212365]"
      ]
     },
     "execution_count": 4,
     "metadata": {},
     "output_type": "execute_result"
    }
   ],
   "source": [
    "cen"
   ]
  },
  {
   "cell_type": "code",
   "execution_count": null,
   "id": "03bd8729",
   "metadata": {},
   "outputs": [],
   "source": []
  },
  {
   "cell_type": "code",
   "execution_count": 21,
   "id": "5f970409",
   "metadata": {
    "ExecuteTime": {
     "end_time": "2024-06-09T13:15:55.164206Z",
     "start_time": "2024-06-09T13:15:55.153767Z"
    }
   },
   "outputs": [],
   "source": [
    "data.sorted_cell(num=2, reverse=True)"
   ]
  },
  {
   "cell_type": "code",
   "execution_count": 22,
   "id": "793c94a5",
   "metadata": {
    "ExecuteTime": {
     "end_time": "2024-06-09T13:15:55.171279Z",
     "start_time": "2024-06-09T13:15:55.166398Z"
    }
   },
   "outputs": [
    {
     "data": {
      "text/plain": [
       "[[<Cooler \"None_multi_nomerge_SRR7226702_res-10000-40000-1000000.mcool::/resolutions/10000\">,\n",
       "  <Cooler \"None_multi_nomerge_SRR7226696_res-10000-40000-1000000.mcool::/resolutions/10000\">],\n",
       " [<Cooler \"None_multi_nomerge_SRR7226702_res-10000-40000-1000000.mcool::/resolutions/40000\">,\n",
       "  <Cooler \"None_multi_nomerge_SRR7226696_res-10000-40000-1000000.mcool::/resolutions/40000\">],\n",
       " [<Cooler \"None_multi_nomerge_SRR7226702_res-10000-40000-1000000.mcool::/resolutions/1000000\">,\n",
       "  <Cooler \"None_multi_nomerge_SRR7226696_res-10000-40000-1000000.mcool::/resolutions/1000000\">]]"
      ]
     },
     "execution_count": 22,
     "metadata": {},
     "output_type": "execute_result"
    }
   ],
   "source": [
    "data.clr_obj"
   ]
  },
  {
   "cell_type": "code",
   "execution_count": 23,
   "id": "45c3b3db",
   "metadata": {
    "ExecuteTime": {
     "end_time": "2024-06-09T13:15:55.180620Z",
     "start_time": "2024-06-09T13:15:55.173129Z"
    }
   },
   "outputs": [],
   "source": [
    "cooler.merge_coolers?"
   ]
  },
  {
   "cell_type": "code",
   "execution_count": 18,
   "id": "c8d2a2ad",
   "metadata": {
    "ExecuteTime": {
     "end_time": "2024-06-09T13:15:22.190171Z",
     "start_time": "2024-06-09T13:15:22.185129Z"
    }
   },
   "outputs": [
    {
     "data": {
      "text/plain": [
       "'./cache/None_multi_nomerge_SRR7226702_res-10000-40000-1000000.mcool::/resolutions/10000'"
      ]
     },
     "execution_count": 18,
     "metadata": {},
     "output_type": "execute_result"
    }
   ],
   "source": [
    "data.clr_obj[0][0].uri"
   ]
  },
  {
   "cell_type": "code",
   "execution_count": 28,
   "id": "267cbae5",
   "metadata": {
    "ExecuteTime": {
     "end_time": "2024-06-09T13:19:38.968745Z",
     "start_time": "2024-06-09T13:19:37.146666Z"
    }
   },
   "outputs": [],
   "source": [
    "cooler.merge_coolers(input_uris=[x.uri for x in data.clr_obj[0]],\n",
    "                                     output_uri='./test.cool.cool',\n",
    "                                     mergebuf=1000000)"
   ]
  },
  {
   "cell_type": "code",
   "execution_count": 29,
   "id": "9b4b2ce5",
   "metadata": {
    "ExecuteTime": {
     "end_time": "2024-06-09T13:20:04.576489Z",
     "start_time": "2024-06-09T13:20:02.732620Z"
    }
   },
   "outputs": [],
   "source": [
    "\n",
    "    cooler.zoomify_cooler(base_uris='./test.cool.cool', outfile='./test.cool',\n",
    "                          resolutions=[10000, 40000, 1000000],\n",
    "                          chunksize=1000000, nproc=16)"
   ]
  },
  {
   "cell_type": "code",
   "execution_count": 32,
   "id": "ab22c87a",
   "metadata": {
    "ExecuteTime": {
     "end_time": "2024-06-09T13:20:12.817229Z",
     "start_time": "2024-06-09T13:20:12.813955Z"
    }
   },
   "outputs": [],
   "source": [
    "    os.remove('./test.cool.cool')"
   ]
  },
  {
   "cell_type": "code",
   "execution_count": 10,
   "id": "33858d80",
   "metadata": {
    "ExecuteTime": {
     "end_time": "2024-06-09T13:04:13.198345Z",
     "start_time": "2024-06-09T13:04:11.965541Z"
    }
   },
   "outputs": [],
   "source": [
    "# 创建新的cooler文件\n",
    "clr = data.clr_obj[0][0]\n",
    "cooler.create_cooler(\n",
    "    './test.cool',\n",
    "    bins=clr.bins()[:],\n",
    "    pixels=clr.pixels()[:]\n",
    ")\n"
   ]
  },
  {
   "cell_type": "code",
   "execution_count": 11,
   "id": "6b2b6964",
   "metadata": {
    "ExecuteTime": {
     "end_time": "2024-06-09T13:09:36.760030Z",
     "start_time": "2024-06-09T13:09:36.753739Z"
    }
   },
   "outputs": [
    {
     "data": {
      "text/plain": [
       "['/Users/ckw/warehouse/white/data/dipC/human/SRR7226702.mcool',\n",
       " '/Users/ckw/warehouse/white/data/dipC/human/SRR7226696.mcool']"
      ]
     },
     "execution_count": 11,
     "metadata": {},
     "output_type": "execute_result"
    }
   ],
   "source": [
    "data.mcool_files"
   ]
  },
  {
   "cell_type": "code",
   "execution_count": null,
   "id": "7293b830",
   "metadata": {},
   "outputs": [],
   "source": []
  },
  {
   "cell_type": "code",
   "execution_count": null,
   "id": "67653a3a",
   "metadata": {},
   "outputs": [],
   "source": []
  },
  {
   "cell_type": "code",
   "execution_count": 20,
   "id": "ac2005b8",
   "metadata": {
    "ExecuteTime": {
     "end_time": "2024-06-08T08:25:50.798826Z",
     "start_time": "2024-06-08T08:25:50.725765Z"
    }
   },
   "outputs": [
    {
     "ename": "TypeError",
     "evalue": "sequence item 0: expected str instance, Cooler found",
     "output_type": "error",
     "traceback": [
      "\u001B[0;31m---------------------------------------------------------------------------\u001B[0m",
      "\u001B[0;31mTypeError\u001B[0m                                 Traceback (most recent call last)",
      "Cell \u001B[0;32mIn[20], line 1\u001B[0m\n\u001B[0;32m----> 1\u001B[0m \u001B[43mcooler\u001B[49m\u001B[38;5;241;43m.\u001B[39;49m\u001B[43mmerge_coolers\u001B[49m\u001B[43m(\u001B[49m\u001B[43minput_uris\u001B[49m\u001B[38;5;241;43m=\u001B[39;49m\u001B[43mdata\u001B[49m\u001B[38;5;241;43m.\u001B[39;49m\u001B[43mclr_obj\u001B[49m\u001B[43m[\u001B[49m\u001B[38;5;241;43m0\u001B[39;49m\u001B[43m]\u001B[49m\u001B[43m,\u001B[49m\u001B[43m \u001B[49m\u001B[43moutput_uri\u001B[49m\u001B[38;5;241;43m=\u001B[39;49m\u001B[38;5;124;43m'\u001B[39;49m\u001B[38;5;124;43mtest.cool\u001B[39;49m\u001B[38;5;124;43m'\u001B[39;49m\u001B[43m,\u001B[49m\u001B[43m \u001B[49m\u001B[43mmergebuf\u001B[49m\u001B[38;5;241;43m=\u001B[39;49m\u001B[38;5;241;43m1000000\u001B[39;49m\u001B[43m)\u001B[49m\n",
      "File \u001B[0;32m~/opt/anaconda3/envs/ckw/lib/python3.10/site-packages/cooler/reduce.py:216\u001B[0m, in \u001B[0;36mmerge_coolers\u001B[0;34m(output_uri, input_uris, mergebuf, columns, dtypes, agg, **kwargs)\u001B[0m\n\u001B[1;32m    213\u001B[0m \u001B[38;5;66;03m# TODO: combine metadata from inputs\u001B[39;00m\n\u001B[1;32m    214\u001B[0m \u001B[38;5;28;01mfrom\u001B[39;00m \u001B[38;5;21;01m.\u001B[39;00m\u001B[38;5;21;01mapi\u001B[39;00m \u001B[38;5;28;01mimport\u001B[39;00m Cooler\n\u001B[0;32m--> 216\u001B[0m logger\u001B[38;5;241m.\u001B[39minfo(\u001B[38;5;124m\"\u001B[39m\u001B[38;5;124mMerging:\u001B[39m\u001B[38;5;130;01m\\n\u001B[39;00m\u001B[38;5;132;01m{}\u001B[39;00m\u001B[38;5;124m\"\u001B[39m\u001B[38;5;241m.\u001B[39mformat(\u001B[38;5;124;43m\"\u001B[39;49m\u001B[38;5;130;43;01m\\n\u001B[39;49;00m\u001B[38;5;124;43m\"\u001B[39;49m\u001B[38;5;241;43m.\u001B[39;49m\u001B[43mjoin\u001B[49m\u001B[43m(\u001B[49m\u001B[43minput_uris\u001B[49m\u001B[43m)\u001B[49m))\n\u001B[1;32m    218\u001B[0m clrs \u001B[38;5;241m=\u001B[39m [Cooler(path) \u001B[38;5;28;01mfor\u001B[39;00m path \u001B[38;5;129;01min\u001B[39;00m input_uris]\n\u001B[1;32m    220\u001B[0m is_symm \u001B[38;5;241m=\u001B[39m [clr\u001B[38;5;241m.\u001B[39mstorage_mode \u001B[38;5;241m==\u001B[39m \u001B[38;5;124m\"\u001B[39m\u001B[38;5;124msymmetric-upper\u001B[39m\u001B[38;5;124m\"\u001B[39m \u001B[38;5;28;01mfor\u001B[39;00m clr \u001B[38;5;129;01min\u001B[39;00m clrs]\n",
      "\u001B[0;31mTypeError\u001B[0m: sequence item 0: expected str instance, Cooler found"
     ]
    }
   ],
   "source": [
    "cooler.merge_coolers(input_uris=data.clr_obj[0], output_uri='test.cool', mergebuf=1000000)\n"
   ]
  },
  {
   "cell_type": "code",
   "execution_count": 21,
   "id": "bab3b8f2",
   "metadata": {
    "ExecuteTime": {
     "end_time": "2024-06-08T08:26:15.164282Z",
     "start_time": "2024-06-08T08:26:15.157457Z"
    }
   },
   "outputs": [],
   "source": [
    "cooler.merge_coolers?"
   ]
  },
  {
   "cell_type": "code",
   "execution_count": null,
   "id": "8e5942ef",
   "metadata": {},
   "outputs": [],
   "source": []
  },
  {
   "cell_type": "code",
   "execution_count": null,
   "id": "d3a3bf7a",
   "metadata": {},
   "outputs": [],
   "source": []
  },
  {
   "cell_type": "code",
   "execution_count": null,
   "id": "e500edf0",
   "metadata": {},
   "outputs": [],
   "source": []
  },
  {
   "cell_type": "code",
   "execution_count": 39,
   "id": "78e5116f",
   "metadata": {
    "ExecuteTime": {
     "end_time": "2024-06-10T09:07:51.900128Z",
     "start_time": "2024-06-10T09:07:24.328642Z"
    },
    "scrolled": false
   },
   "outputs": [
    {
     "name": "stdout",
     "output_type": "stream",
     "text": [
      "cal DS\n",
      "cal random DS\n"
     ]
    },
    {
     "name": "stderr",
     "output_type": "stream",
     "text": [
      "100%|█████████████████████████████████████████████████████████████████████████████████████████████████████████████████████████████████████████| 10/10 [00:01<00:00,  5.61it/s]\n",
      "100%|█████████████████████████████████████████████████████████████████████████████████████████████████████████████████████████████████████████| 10/10 [00:01<00:00,  5.67it/s]\n",
      "100%|█████████████████████████████████████████████████████████████████████████████████████████████████████████████████████████████████████████| 10/10 [00:01<00:00,  5.48it/s]\n",
      "100%|█████████████████████████████████████████████████████████████████████████████████████████████████████████████████████████████████████████| 10/10 [00:01<00:00,  5.58it/s]\n",
      "100%|█████████████████████████████████████████████████████████████████████████████████████████████████████████████████████████████████████████| 10/10 [00:01<00:00,  5.56it/s]\n",
      "100%|█████████████████████████████████████████████████████████████████████████████████████████████████████████████████████████████████████████| 10/10 [00:01<00:00,  5.51it/s]\n",
      "100%|█████████████████████████████████████████████████████████████████████████████████████████████████████████████████████████████████████████| 10/10 [00:01<00:00,  5.51it/s]\n",
      "100%|█████████████████████████████████████████████████████████████████████████████████████████████████████████████████████████████████████████| 10/10 [00:01<00:00,  5.59it/s]\n"
     ]
    }
   ],
   "source": [
    "terr = data.get_nDS_chrom_terr(epoch=10,res=1000000)"
   ]
  },
  {
   "cell_type": "code",
   "execution_count": 40,
   "id": "1479949c",
   "metadata": {
    "ExecuteTime": {
     "end_time": "2024-06-10T09:18:58.220545Z",
     "start_time": "2024-06-10T09:07:51.901251Z"
    }
   },
   "outputs": [
    {
     "name": "stderr",
     "output_type": "stream",
     "text": [
      "cell: 100%|█████████████████████████████████████████████████████████████████████████████████████████████████████████████████████████████████████| 8/8 [10:53<00:00, 81.67s/it]\n"
     ]
    }
   ],
   "source": [
    "tad = data.get_TAD_nDS(epoch=1, res=40000)"
   ]
  },
  {
   "cell_type": "code",
   "execution_count": 42,
   "id": "a114f37c",
   "metadata": {
    "ExecuteTime": {
     "end_time": "2024-06-10T09:19:04.180609Z",
     "start_time": "2024-06-10T09:19:04.175944Z"
    }
   },
   "outputs": [
    {
     "data": {
      "text/plain": [
       "[0.14149786955096694,\n",
       " 0.17885119632907245,\n",
       " 0.00763356276630614,\n",
       " -0.00016388069485417933,\n",
       " 0.05694854146181577,\n",
       " 0.125671910848902,\n",
       " 0.11017535234349395,\n",
       " 0.1549082268108817]"
      ]
     },
     "execution_count": 42,
     "metadata": {},
     "output_type": "execute_result"
    }
   ],
   "source": [
    "tad"
   ]
  },
  {
   "cell_type": "code",
   "execution_count": 44,
   "id": "8d96cf23",
   "metadata": {
    "ExecuteTime": {
     "end_time": "2024-06-10T09:20:28.787740Z",
     "start_time": "2024-06-10T09:20:28.762467Z"
    }
   },
   "outputs": [
    {
     "data": {
      "text/html": [
       "<div>\n",
       "<style scoped>\n",
       "    .dataframe tbody tr th:only-of-type {\n",
       "        vertical-align: middle;\n",
       "    }\n",
       "\n",
       "    .dataframe tbody tr th {\n",
       "        vertical-align: top;\n",
       "    }\n",
       "\n",
       "    .dataframe thead th {\n",
       "        text-align: right;\n",
       "    }\n",
       "</style>\n",
       "<table border=\"1\" class=\"dataframe\">\n",
       "  <thead>\n",
       "    <tr style=\"text-align: right;\">\n",
       "      <th></th>\n",
       "      <th>chr1_chr2</th>\n",
       "      <th>chr1_chr3</th>\n",
       "      <th>chr1_chr4</th>\n",
       "      <th>chr1_chr5</th>\n",
       "      <th>chr1_chr6</th>\n",
       "      <th>chr1_chr7</th>\n",
       "      <th>chr1_chr8</th>\n",
       "      <th>chr1_chr9</th>\n",
       "      <th>chr1_chr10</th>\n",
       "      <th>chr1_chr11</th>\n",
       "      <th>...</th>\n",
       "      <th>chr15_chr16</th>\n",
       "      <th>chr15_chr17</th>\n",
       "      <th>chr15_chr18</th>\n",
       "      <th>chr15_chr19</th>\n",
       "      <th>chr16_chr17</th>\n",
       "      <th>chr16_chr18</th>\n",
       "      <th>chr16_chr19</th>\n",
       "      <th>chr17_chr18</th>\n",
       "      <th>chr17_chr19</th>\n",
       "      <th>chr18_chr19</th>\n",
       "    </tr>\n",
       "  </thead>\n",
       "  <tbody>\n",
       "    <tr>\n",
       "      <th>0</th>\n",
       "      <td>0.044113</td>\n",
       "      <td>0.050842</td>\n",
       "      <td>0.052499</td>\n",
       "      <td>0.055763</td>\n",
       "      <td>0.048237</td>\n",
       "      <td>0.056722</td>\n",
       "      <td>0.054562</td>\n",
       "      <td>0.049789</td>\n",
       "      <td>0.049469</td>\n",
       "      <td>0.046643</td>\n",
       "      <td>...</td>\n",
       "      <td>0.073210</td>\n",
       "      <td>0.068110</td>\n",
       "      <td>0.102029</td>\n",
       "      <td>0.102947</td>\n",
       "      <td>0.086303</td>\n",
       "      <td>0.106825</td>\n",
       "      <td>0.100507</td>\n",
       "      <td>0.118466</td>\n",
       "      <td>0.126074</td>\n",
       "      <td>0.152143</td>\n",
       "    </tr>\n",
       "    <tr>\n",
       "      <th>1</th>\n",
       "      <td>0.048338</td>\n",
       "      <td>0.046480</td>\n",
       "      <td>0.041421</td>\n",
       "      <td>0.045329</td>\n",
       "      <td>0.050731</td>\n",
       "      <td>0.049484</td>\n",
       "      <td>0.049169</td>\n",
       "      <td>0.043685</td>\n",
       "      <td>0.050590</td>\n",
       "      <td>0.040934</td>\n",
       "      <td>...</td>\n",
       "      <td>0.075458</td>\n",
       "      <td>0.073769</td>\n",
       "      <td>0.090791</td>\n",
       "      <td>0.089160</td>\n",
       "      <td>0.070767</td>\n",
       "      <td>0.094551</td>\n",
       "      <td>0.091755</td>\n",
       "      <td>0.096698</td>\n",
       "      <td>0.080076</td>\n",
       "      <td>0.125180</td>\n",
       "    </tr>\n",
       "    <tr>\n",
       "      <th>2</th>\n",
       "      <td>0.069548</td>\n",
       "      <td>0.057239</td>\n",
       "      <td>0.068513</td>\n",
       "      <td>0.064110</td>\n",
       "      <td>0.075070</td>\n",
       "      <td>0.066494</td>\n",
       "      <td>0.075267</td>\n",
       "      <td>0.065779</td>\n",
       "      <td>0.075481</td>\n",
       "      <td>0.076684</td>\n",
       "      <td>...</td>\n",
       "      <td>0.087579</td>\n",
       "      <td>0.096742</td>\n",
       "      <td>0.097319</td>\n",
       "      <td>0.110710</td>\n",
       "      <td>0.079326</td>\n",
       "      <td>0.079773</td>\n",
       "      <td>0.068056</td>\n",
       "      <td>0.109668</td>\n",
       "      <td>0.096357</td>\n",
       "      <td>0.127326</td>\n",
       "    </tr>\n",
       "    <tr>\n",
       "      <th>3</th>\n",
       "      <td>0.054943</td>\n",
       "      <td>0.063710</td>\n",
       "      <td>0.044945</td>\n",
       "      <td>0.052719</td>\n",
       "      <td>0.058622</td>\n",
       "      <td>0.049307</td>\n",
       "      <td>0.062228</td>\n",
       "      <td>0.041225</td>\n",
       "      <td>0.063146</td>\n",
       "      <td>0.059214</td>\n",
       "      <td>...</td>\n",
       "      <td>0.090345</td>\n",
       "      <td>0.079259</td>\n",
       "      <td>0.083419</td>\n",
       "      <td>0.101635</td>\n",
       "      <td>0.088024</td>\n",
       "      <td>0.103010</td>\n",
       "      <td>0.110671</td>\n",
       "      <td>0.076843</td>\n",
       "      <td>0.095317</td>\n",
       "      <td>0.129130</td>\n",
       "    </tr>\n",
       "    <tr>\n",
       "      <th>4</th>\n",
       "      <td>0.054599</td>\n",
       "      <td>0.052833</td>\n",
       "      <td>0.046610</td>\n",
       "      <td>0.052512</td>\n",
       "      <td>0.057209</td>\n",
       "      <td>0.056743</td>\n",
       "      <td>0.055686</td>\n",
       "      <td>0.050984</td>\n",
       "      <td>0.058856</td>\n",
       "      <td>0.047158</td>\n",
       "      <td>...</td>\n",
       "      <td>0.083907</td>\n",
       "      <td>0.081667</td>\n",
       "      <td>0.101344</td>\n",
       "      <td>0.097908</td>\n",
       "      <td>0.079573</td>\n",
       "      <td>0.107209</td>\n",
       "      <td>0.101666</td>\n",
       "      <td>0.110929</td>\n",
       "      <td>0.088157</td>\n",
       "      <td>0.141580</td>\n",
       "    </tr>\n",
       "    <tr>\n",
       "      <th>5</th>\n",
       "      <td>0.063077</td>\n",
       "      <td>0.057866</td>\n",
       "      <td>0.057378</td>\n",
       "      <td>0.064776</td>\n",
       "      <td>0.066704</td>\n",
       "      <td>0.057538</td>\n",
       "      <td>0.056953</td>\n",
       "      <td>0.047454</td>\n",
       "      <td>0.060317</td>\n",
       "      <td>0.059293</td>\n",
       "      <td>...</td>\n",
       "      <td>0.093510</td>\n",
       "      <td>0.084477</td>\n",
       "      <td>0.098041</td>\n",
       "      <td>0.087837</td>\n",
       "      <td>0.090945</td>\n",
       "      <td>0.112618</td>\n",
       "      <td>0.104809</td>\n",
       "      <td>0.107073</td>\n",
       "      <td>0.088855</td>\n",
       "      <td>0.137713</td>\n",
       "    </tr>\n",
       "    <tr>\n",
       "      <th>6</th>\n",
       "      <td>0.068202</td>\n",
       "      <td>0.071674</td>\n",
       "      <td>0.070749</td>\n",
       "      <td>0.078598</td>\n",
       "      <td>0.055224</td>\n",
       "      <td>0.074131</td>\n",
       "      <td>0.072798</td>\n",
       "      <td>0.055939</td>\n",
       "      <td>0.069404</td>\n",
       "      <td>0.070166</td>\n",
       "      <td>...</td>\n",
       "      <td>0.120263</td>\n",
       "      <td>0.089875</td>\n",
       "      <td>0.145251</td>\n",
       "      <td>0.131525</td>\n",
       "      <td>0.110842</td>\n",
       "      <td>0.133816</td>\n",
       "      <td>0.128078</td>\n",
       "      <td>0.141877</td>\n",
       "      <td>0.117774</td>\n",
       "      <td>0.183602</td>\n",
       "    </tr>\n",
       "    <tr>\n",
       "      <th>7</th>\n",
       "      <td>0.077430</td>\n",
       "      <td>0.073306</td>\n",
       "      <td>0.081410</td>\n",
       "      <td>0.084039</td>\n",
       "      <td>0.083210</td>\n",
       "      <td>0.084399</td>\n",
       "      <td>0.087191</td>\n",
       "      <td>0.074391</td>\n",
       "      <td>0.083597</td>\n",
       "      <td>0.083929</td>\n",
       "      <td>...</td>\n",
       "      <td>0.117024</td>\n",
       "      <td>0.107004</td>\n",
       "      <td>0.112843</td>\n",
       "      <td>0.117663</td>\n",
       "      <td>0.119825</td>\n",
       "      <td>0.126204</td>\n",
       "      <td>0.102139</td>\n",
       "      <td>0.120772</td>\n",
       "      <td>0.117484</td>\n",
       "      <td>0.134553</td>\n",
       "    </tr>\n",
       "  </tbody>\n",
       "</table>\n",
       "<p>8 rows × 171 columns</p>\n",
       "</div>"
      ],
      "text/plain": [
       "   chr1_chr2  chr1_chr3  chr1_chr4  chr1_chr5  chr1_chr6  chr1_chr7  \\\n",
       "0   0.044113   0.050842   0.052499   0.055763   0.048237   0.056722   \n",
       "1   0.048338   0.046480   0.041421   0.045329   0.050731   0.049484   \n",
       "2   0.069548   0.057239   0.068513   0.064110   0.075070   0.066494   \n",
       "3   0.054943   0.063710   0.044945   0.052719   0.058622   0.049307   \n",
       "4   0.054599   0.052833   0.046610   0.052512   0.057209   0.056743   \n",
       "5   0.063077   0.057866   0.057378   0.064776   0.066704   0.057538   \n",
       "6   0.068202   0.071674   0.070749   0.078598   0.055224   0.074131   \n",
       "7   0.077430   0.073306   0.081410   0.084039   0.083210   0.084399   \n",
       "\n",
       "   chr1_chr8  chr1_chr9  chr1_chr10  chr1_chr11  ...  chr15_chr16  \\\n",
       "0   0.054562   0.049789    0.049469    0.046643  ...     0.073210   \n",
       "1   0.049169   0.043685    0.050590    0.040934  ...     0.075458   \n",
       "2   0.075267   0.065779    0.075481    0.076684  ...     0.087579   \n",
       "3   0.062228   0.041225    0.063146    0.059214  ...     0.090345   \n",
       "4   0.055686   0.050984    0.058856    0.047158  ...     0.083907   \n",
       "5   0.056953   0.047454    0.060317    0.059293  ...     0.093510   \n",
       "6   0.072798   0.055939    0.069404    0.070166  ...     0.120263   \n",
       "7   0.087191   0.074391    0.083597    0.083929  ...     0.117024   \n",
       "\n",
       "   chr15_chr17  chr15_chr18  chr15_chr19  chr16_chr17  chr16_chr18  \\\n",
       "0     0.068110     0.102029     0.102947     0.086303     0.106825   \n",
       "1     0.073769     0.090791     0.089160     0.070767     0.094551   \n",
       "2     0.096742     0.097319     0.110710     0.079326     0.079773   \n",
       "3     0.079259     0.083419     0.101635     0.088024     0.103010   \n",
       "4     0.081667     0.101344     0.097908     0.079573     0.107209   \n",
       "5     0.084477     0.098041     0.087837     0.090945     0.112618   \n",
       "6     0.089875     0.145251     0.131525     0.110842     0.133816   \n",
       "7     0.107004     0.112843     0.117663     0.119825     0.126204   \n",
       "\n",
       "   chr16_chr19  chr17_chr18  chr17_chr19  chr18_chr19  \n",
       "0     0.100507     0.118466     0.126074     0.152143  \n",
       "1     0.091755     0.096698     0.080076     0.125180  \n",
       "2     0.068056     0.109668     0.096357     0.127326  \n",
       "3     0.110671     0.076843     0.095317     0.129130  \n",
       "4     0.101666     0.110929     0.088157     0.141580  \n",
       "5     0.104809     0.107073     0.088855     0.137713  \n",
       "6     0.128078     0.141877     0.117774     0.183602  \n",
       "7     0.102139     0.120772     0.117484     0.134553  \n",
       "\n",
       "[8 rows x 171 columns]"
      ]
     },
     "execution_count": 44,
     "metadata": {},
     "output_type": "execute_result"
    }
   ],
   "source": [
    "terr[0]"
   ]
  },
  {
   "cell_type": "code",
   "execution_count": 45,
   "id": "128382b5",
   "metadata": {
    "ExecuteTime": {
     "end_time": "2024-06-10T09:20:47.695698Z",
     "start_time": "2024-06-10T09:20:47.690987Z"
    }
   },
   "outputs": [
    {
     "data": {
      "text/plain": [
       "['SRR7226705',\n",
       " 'SRR7226701',\n",
       " 'SRR7226699',\n",
       " 'SRR7226698',\n",
       " 'SRR7226702',\n",
       " 'SRR7226696',\n",
       " 'SRR7226695',\n",
       " 'SRR7226697']"
      ]
     },
     "execution_count": 45,
     "metadata": {},
     "output_type": "execute_result"
    }
   ],
   "source": [
    "data.mcool_names"
   ]
  },
  {
   "cell_type": "code",
   "execution_count": 49,
   "id": "534b65dc",
   "metadata": {
    "ExecuteTime": {
     "end_time": "2024-06-10T09:21:30.194551Z",
     "start_time": "2024-06-10T09:21:30.191777Z"
    }
   },
   "outputs": [],
   "source": [
    "tmp =terr[0]"
   ]
  },
  {
   "cell_type": "code",
   "execution_count": 50,
   "id": "2d82dcd2",
   "metadata": {
    "ExecuteTime": {
     "end_time": "2024-06-10T09:21:35.468061Z",
     "start_time": "2024-06-10T09:21:35.464834Z"
    }
   },
   "outputs": [],
   "source": [
    "tmp.index = data.mcool_names"
   ]
  },
  {
   "cell_type": "code",
   "execution_count": 54,
   "id": "5517a178",
   "metadata": {
    "ExecuteTime": {
     "end_time": "2024-06-10T09:22:52.788144Z",
     "start_time": "2024-06-10T09:22:52.784332Z"
    }
   },
   "outputs": [],
   "source": [
    "import pandas as pd\n",
    "df = pd.DataFrame({'tad':tad})"
   ]
  },
  {
   "cell_type": "code",
   "execution_count": 57,
   "id": "fecf8276",
   "metadata": {
    "ExecuteTime": {
     "end_time": "2024-06-10T09:26:16.963123Z",
     "start_time": "2024-06-10T09:25:26.990915Z"
    }
   },
   "outputs": [
    {
     "name": "stdout",
     "output_type": "stream",
     "text": [
      "merging cooler\n",
      "done\n"
     ]
    },
    {
     "name": "stderr",
     "output_type": "stream",
     "text": [
      "100%|███████████████████████████████████████████████████████████████████████████████████████████████████████████████████████████████████████████| 8/8 [00:25<00:00,  3.16s/it]\n"
     ]
    }
   ],
   "source": [
    "ab = data.get_AB_compartment(res=1000000, epoch =1,genome='/Users/ckw/warehouse/white/data/hg38.fa')"
   ]
  },
  {
   "cell_type": "code",
   "execution_count": 60,
   "id": "659c91e5",
   "metadata": {
    "ExecuteTime": {
     "end_time": "2024-06-10T09:32:14.828878Z",
     "start_time": "2024-06-10T09:32:14.767987Z"
    }
   },
   "outputs": [
    {
     "ename": "TypeError",
     "evalue": "list() takes no keyword arguments",
     "output_type": "error",
     "traceback": [
      "\u001B[0;31m---------------------------------------------------------------------------\u001B[0m",
      "\u001B[0;31mTypeError\u001B[0m                                 Traceback (most recent call last)",
      "Cell \u001B[0;32mIn[60], line 1\u001B[0m\n\u001B[0;32m----> 1\u001B[0m cen \u001B[38;5;241m=\u001B[39m\u001B[43mdata\u001B[49m\u001B[38;5;241;43m.\u001B[39;49m\u001B[43mget_Centromere_nDs\u001B[49m\u001B[43m(\u001B[49m\u001B[43mres\u001B[49m\u001B[38;5;241;43m=\u001B[39;49m\u001B[38;5;241;43m1000000\u001B[39;49m\u001B[43m,\u001B[49m\u001B[43m \u001B[49m\u001B[43mepoch\u001B[49m\u001B[38;5;241;43m=\u001B[39;49m\u001B[38;5;241;43m1\u001B[39;49m\u001B[43m)\u001B[49m\n",
      "File \u001B[0;32m~/Desktop/project/strake/sc3dg/sc3dg/analysis/api.py:1018\u001B[0m, in \u001B[0;36mMMCooler.get_Centromere_nDs\u001B[0;34m(self, res, epoch)\u001B[0m\n\u001B[1;32m   1016\u001B[0m result \u001B[38;5;241m=\u001B[39m []\n\u001B[1;32m   1017\u001B[0m \u001B[38;5;28;01mfor\u001B[39;00m i, cr \u001B[38;5;129;01min\u001B[39;00m \u001B[38;5;28menumerate\u001B[39m(clr):\n\u001B[0;32m-> 1018\u001B[0m     log \u001B[38;5;241m=\u001B[39m \u001B[38;5;28;43mself\u001B[39;49m\u001B[38;5;241;43m.\u001B[39;49m\u001B[43m__get_Centromere_nDs\u001B[49m\u001B[43m(\u001B[49m\u001B[43mcr\u001B[49m\u001B[43m,\u001B[49m\u001B[43m \u001B[49m\u001B[43mres\u001B[49m\u001B[43m,\u001B[49m\u001B[43m \u001B[49m\u001B[43mepoch\u001B[49m\u001B[38;5;241;43m=\u001B[39;49m\u001B[43mepoch\u001B[49m\u001B[43m)\u001B[49m\n\u001B[1;32m   1019\u001B[0m     result\u001B[38;5;241m.\u001B[39mappend([log[\u001B[38;5;241m0\u001B[39m], log[\u001B[38;5;241m1\u001B[39m], log[\u001B[38;5;241m2\u001B[39m]])\n\u001B[1;32m   1020\u001B[0m result \u001B[38;5;241m=\u001B[39m pd\u001B[38;5;241m.\u001B[39mDataFrame(result)\n",
      "File \u001B[0;32m~/Desktop/project/strake/sc3dg/sc3dg/analysis/api.py:1065\u001B[0m, in \u001B[0;36mMMCooler.__get_Centromere_nDs\u001B[0;34m(self, clr, res, epoch)\u001B[0m\n\u001B[1;32m   1063\u001B[0m r_DS \u001B[38;5;241m=\u001B[39m []\n\u001B[1;32m   1064\u001B[0m \u001B[38;5;28;01mfor\u001B[39;00m i \u001B[38;5;129;01min\u001B[39;00m \u001B[38;5;28mrange\u001B[39m(epoch):\n\u001B[0;32m-> 1065\u001B[0m     random_interval \u001B[38;5;241m=\u001B[39m \u001B[38;5;28;43mlist\u001B[39;49m\u001B[43m(\u001B[49m\u001B[43mbins\u001B[49m\u001B[38;5;241;43m.\u001B[39;49m\u001B[43msample\u001B[49m\u001B[43m(\u001B[49m\u001B[38;5;28;43mlen\u001B[39;49m\u001B[43m(\u001B[49m\u001B[43mchr1\u001B[49m\u001B[43m)\u001B[49m\u001B[43m)\u001B[49m\u001B[38;5;241;43m.\u001B[39;49m\u001B[43mindex\u001B[49m\u001B[43m,\u001B[49m\u001B[43m \u001B[49m\u001B[43mreplace\u001B[49m\u001B[38;5;241;43m=\u001B[39;49m\u001B[38;5;28;43;01mTrue\u001B[39;49;00m\u001B[43m)\u001B[49m\n\u001B[1;32m   1066\u001B[0m     random_interval2 \u001B[38;5;241m=\u001B[39m \u001B[38;5;28mlist\u001B[39m(\u001B[38;5;28mset\u001B[39m(\u001B[38;5;28mlist\u001B[39m(bins\u001B[38;5;241m.\u001B[39mindex))\u001B[38;5;241m.\u001B[39mdifference(\u001B[38;5;28mset\u001B[39m(random_interval)))\n\u001B[1;32m   1067\u001B[0m     r_DS\u001B[38;5;241m.\u001B[39mappend(\u001B[38;5;28mself\u001B[39m\u001B[38;5;241m.\u001B[39m__terri_detection_score(pixels, random_interval, random_interval2))\n",
      "\u001B[0;31mTypeError\u001B[0m: list() takes no keyword arguments"
     ]
    }
   ],
   "source": []
  },
  {
   "cell_type": "code",
   "execution_count": null,
   "id": "d7d7441e",
   "metadata": {},
   "outputs": [],
   "source": []
  }
 ],
 "metadata": {
  "kernelspec": {
   "display_name": "ckw",
   "language": "python",
   "name": "ckw"
  },
  "language_info": {
   "codemirror_mode": {
    "name": "ipython",
    "version": 3
   },
   "file_extension": ".py",
   "mimetype": "text/x-python",
   "name": "python",
   "nbconvert_exporter": "python",
   "pygments_lexer": "ipython3",
   "version": "3.10.0"
  }
 },
 "nbformat": 4,
 "nbformat_minor": 5
}
