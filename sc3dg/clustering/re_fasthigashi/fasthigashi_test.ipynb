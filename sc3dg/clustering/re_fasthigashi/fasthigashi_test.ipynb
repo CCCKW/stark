{
 "cells": [
  {
   "cell_type": "code",
   "execution_count": 3,
   "metadata": {},
   "outputs": [],
   "source": [
    "x = '/cluster2/home/Kangwen/0_benchmark/0_benchmark_dataset/8_scNano/data/SRR22179631_P36B2_GM12878-medium.pairs.gz'"
   ]
  },
  {
   "cell_type": "code",
   "execution_count": 7,
   "metadata": {},
   "outputs": [
    {
     "data": {
      "text/plain": [
       "'GM12878-medium'"
      ]
     },
     "execution_count": 7,
     "metadata": {},
     "output_type": "execute_result"
    }
   ],
   "source": []
  },
  {
   "cell_type": "code",
   "execution_count": 1,
   "metadata": {},
   "outputs": [],
   "source": [
    "import os\n",
    "import pickle\n",
    "import numpy as np\n",
    "import matplotlib.pyplot as plt\n",
    "from fasthigashi.FastHigashi_Wrapper import *"
   ]
  },
  {
   "cell_type": "code",
   "execution_count": 4,
   "metadata": {},
   "outputs": [],
   "source": [
    "from higashi2.Higashi_wrapper import *\n",
    "config = \"/cluster/home/Kangwen/dream/re_fasthigashi/LiMAC_500k/config_ckw.JSON\"\n",
    "higashi_model = Higashi(config)"
   ]
  },
  {
   "cell_type": "code",
   "execution_count": 5,
   "metadata": {},
   "outputs": [
    {
     "name": "stdout",
     "output_type": "stream",
     "text": [
      "generating start/end dict for chromosome\n",
      "extracting from filelist.txt\n"
     ]
    },
    {
     "data": {
      "application/vnd.jupyter.widget-view+json": {
       "model_id": "abaf6392ef644522b05415297f85c4bc",
       "version_major": 2,
       "version_minor": 0
      },
      "text/plain": [
       "  0%|          | 0/389 [00:00<?, ?it/s]"
      ]
     },
     "metadata": {},
     "output_type": "display_data"
    },
    {
     "name": "stdout",
     "output_type": "stream",
     "text": [
      "generating contact maps for baseline\n",
      "data loaded\n",
      "31004372 False\n",
      "chr2 split_num 1\n"
     ]
    },
    {
     "data": {
      "application/vnd.jupyter.widget-view+json": {
       "model_id": "6a85b885ecf24ac4913f47c4a1189cbc",
       "version_major": 2,
       "version_minor": 0
      },
      "text/plain": [
       "creating matrices tasks:   0%|          | 0/22 [00:00<?, ?it/s]"
      ]
     },
     "metadata": {},
     "output_type": "display_data"
    },
    {
     "name": "stdout",
     "output_type": "stream",
     "text": [
      "total_feats_size 252\n"
     ]
    },
    {
     "data": {
      "application/vnd.jupyter.widget-view+json": {
       "model_id": "7825f31c7cd84b3089eacd47df3781e0",
       "version_major": 2,
       "version_minor": 0
      },
      "text/plain": [
       "  0%|          | 0/22 [00:00<?, ?it/s]"
      ]
     },
     "metadata": {},
     "output_type": "display_data"
    }
   ],
   "source": [
    "higashi_model.process_data()"
   ]
  },
  {
   "cell_type": "code",
   "execution_count": 6,
   "metadata": {},
   "outputs": [],
   "source": [
    "import pickle\n",
    "import numpy as np\n",
    "filelist = pd.read_csv(higashi_model.config['data_dir'] + '/filelist.txt',header=None)\n",
    "nums = filelist.shape[0]\n",
    "label_info = {'name': np.arange(nums ),\n",
    "              'lb': np.array([x.split('/')[-1].split('_')[-1].split('.')[0] for x in filelist[0]]),\n",
    "              }\n",
    "\n",
    "pickle.dump(label_info, open(higashi_model.config['data_dir'] + \"/label_info.pickle\", \"wb\"))"
   ]
  },
  {
   "cell_type": "code",
   "execution_count": 7,
   "metadata": {},
   "outputs": [
    {
     "name": "stdout",
     "output_type": "stream",
     "text": [
      "setting to gpu:0 available memory = 65319 MB\n"
     ]
    }
   ],
   "source": [
    "fh_model = FastHigashi(config_path=config,\n",
    "                    path2input_cache=\"/cluster/home/Kangwen/dream/re_fasthigashi/LiMAC_50k\",\n",
    "                    path2result_dir=\"/cluster/home/Kangwen/dream/re_fasthigashi/LiMAC_50k\",\n",
    "                    off_diag=100, # 0-100th diag of the contact maps would be used.\n",
    "                    filter=False, # fit the model on high quality cells, transform the rest\n",
    "                    do_conv=False,# linear convolution imputation\n",
    "                    do_rwr=False, # partial random walk with restart imputation\n",
    "                    do_col=False, # sqrt_vc normalization\n",
    "                    no_col=False) # force to not do sqrt_vc normalization"
   ]
  },
  {
   "cell_type": "code",
   "execution_count": 8,
   "metadata": {},
   "outputs": [
    {
     "name": "stdout",
     "output_type": "stream",
     "text": [
      "total number of cells that pass qc check 387 bad 2 total: 389\n",
      "cache file = /cluster/home/Kangwen/dream/re_fasthigashi/LiMAC_50k/cache_intra_500000_offdiag_100_.pkl\n",
      "saving cached input to /cluster/home/Kangwen/dream/re_fasthigashi/LiMAC_50k/cache_intra_500000_offdiag_100_.pkl\n"
     ]
    },
    {
     "data": {
      "application/vnd.jupyter.widget-view+json": {
       "model_id": "7d3fd6327c8047938e53e5980471c376",
       "version_major": 2,
       "version_minor": 0
      },
      "text/plain": [
       "sparse mtx into tensors:   0%|          | 0/22 [00:00<?, ?it/s]"
      ]
     },
     "metadata": {},
     "output_type": "display_data"
    },
    {
     "data": {
      "application/vnd.jupyter.widget-view+json": {
       "model_id": "e272baef54374cf3ad1963712ebd81d3",
       "version_major": 2,
       "version_minor": 0
      },
      "text/plain": [
       "breaking into batches:   0%|          | 0/22 [00:00<?, ?it/s]"
      ]
     },
     "metadata": {},
     "output_type": "display_data"
    },
    {
     "name": "stdout",
     "output_type": "stream",
     "text": [
      "sparsity 0.07809693062939019\n",
      "do_conv False do_rwr False do_col False\n",
      "recommend_bs_cell [389, 389, 389, 389, 389, 389, 389, 389, 389, 389, 389, 389, 389, 389, 389, 389, 389, 389, 389, 389, 389, 389] pinning memory\n"
     ]
    }
   ],
   "source": [
    "# Pack from sparse mtx to tensors\n",
    "fh_model.prep_dataset()"
   ]
  },
  {
   "cell_type": "code",
   "execution_count": 9,
   "metadata": {},
   "outputs": [
    {
     "name": "stdout",
     "output_type": "stream",
     "text": [
      "dim1_0.6_rank_256_niterp_1_\n",
      "n_iter_parafac 1\n",
      "empty params initialized\n",
      "time elapsed: 0.04\n"
     ]
    },
    {
     "data": {
      "application/vnd.jupyter.widget-view+json": {
       "model_id": "226256d638664688ab26c3f4e692d124",
       "version_major": 2,
       "version_minor": 0
      },
      "text/plain": [
       "initializing params:   0%|          | 0/22 [00:00<?, ?it/s]"
      ]
     },
     "metadata": {},
     "output_type": "display_data"
    },
    {
     "name": "stdout",
     "output_type": "stream",
     "text": [
      "rwr iters: [0 0 0 0 0 0 0 0 0 0 0 0 0 0 0 0 0 0 0 0 0 0]\n",
      "time elapsed: 53.56\n",
      "finish init\n",
      "Starting iteration 0\n",
      "\n",
      "PARAFAC2 re=5.799 takes 27.0s\n",
      "Starting iteration 1\n",
      "\n",
      "PARAFAC2 re=0.296 9.97e-01 variation min9.8e-01 at chrom 21, max1.0e+00 at chrom 1 takes 26.5s\n",
      "Starting iteration 2\n",
      "\n",
      "PARAFAC2 re=0.269 1.70e-01 variation min7.6e-02 at chrom 4, max4.8e-01 at chrom 21 takes 29.9s\n",
      "Starting iteration 3\n",
      "\n",
      "PARAFAC2 re=0.253 1.18e-01 variation min6.4e-02 at chrom 12, max1.8e-01 at chrom 6 takes 26.6s\n",
      "Starting iteration 4\n",
      "\n",
      "PARAFAC2 re=0.238 1.15e-01 variation min5.9e-02 at chrom 21, max1.7e-01 at chrom 0 takes 25.8s\n",
      "Starting iteration 5\n",
      "\n",
      "PARAFAC2 re=0.229 7.47e-02 variation min3.7e-02 at chrom 21, max1.1e-01 at chrom 1 takes 23.5s\n",
      "Starting iteration 6\n",
      "\n",
      "PARAFAC2 re=0.224 3.97e-02 variation min2.0e-02 at chrom 21, max6.1e-02 at chrom 4 takes 12.8s\n",
      "Starting iteration 7\n",
      "\n",
      "PARAFAC2 re=0.222 2.17e-02 variation min1.1e-02 at chrom 20, max3.6e-02 at chrom 4 takes 11.2s\n",
      "Starting iteration 8\n",
      "\n",
      "PARAFAC2 re=0.220 1.30e-02 variation min6.9e-03 at chrom 20, max2.1e-02 at chrom 4 takes 12.1s\n",
      "Starting iteration 9\n",
      "\n",
      "PARAFAC2 re=0.219 8.52e-03 variation min4.5e-03 at chrom 20, max1.3e-02 at chrom 4 takes 13.0s\n",
      "Starting iteration 10\n",
      "\n",
      "PARAFAC2 re=0.219 6.03e-03 variation min3.3e-03 at chrom 20, max8.4e-03 at chrom 4 takes 11.8s\n",
      "Starting iteration 11\n",
      "\n",
      "PARAFAC2 re=0.218 7.35e-03 variation min4.1e-03 at chrom 17, max9.7e-03 at chrom 4 takes 13.9s\n",
      "Starting iteration 12\n",
      "\n",
      "PARAFAC2 re=0.217 5.07e-03 variation min2.7e-03 at chrom 17, max6.4e-03 at chrom 4 takes 11.8s\n",
      "Starting iteration 13\n",
      "\n",
      "PARAFAC2 re=0.217 3.81e-03 variation min2.1e-03 at chrom 17, max4.9e-03 at chrom 1 takes 13.1s\n",
      "Starting iteration 14\n",
      "\n",
      "PARAFAC2 re=0.217 3.06e-03 variation min1.6e-03 at chrom 20, max4.0e-03 at chrom 1 takes 12.1s\n",
      "Starting iteration 15\n",
      "\n",
      "PARAFAC2 re=0.216 2.53e-03 variation min1.3e-03 at chrom 20, max3.4e-03 at chrom 1 takes 12.1s\n",
      "Starting iteration 16\n",
      "\n",
      "PARAFAC2 re=0.216 2.15e-03 variation min1.1e-03 at chrom 20, max3.0e-03 at chrom 1 takes 12.5s\n",
      "Starting iteration 17\n",
      "\n",
      "PARAFAC2 re=0.216 1.88e-03 variation min9.4e-04 at chrom 19, max2.7e-03 at chrom 1 takes 11.9s\n",
      "Starting iteration 18\n",
      "\n",
      "PARAFAC2 re=0.216 1.65e-03 variation min8.1e-04 at chrom 19, max2.4e-03 at chrom 1 takes 11.9s\n",
      "Starting iteration 19\n",
      "\n",
      "PARAFAC2 re=0.216 1.50e-03 variation min7.2e-04 at chrom 19, max2.2e-03 at chrom 1 takes 12.4s\n",
      "Starting iteration 20\n",
      "\n",
      "PARAFAC2 re=0.216 1.34e-03 variation min6.5e-04 at chrom 19, max2.0e-03 at chrom 1 takes 12.1s\n",
      "Starting iteration 21\n",
      "\n",
      "PARAFAC2 re=0.215 1.70e-03 variation min7.7e-04 at chrom 18, max2.5e-03 at chrom 1 takes 13.5s\n",
      "Starting iteration 22\n",
      "\n",
      "PARAFAC2 re=0.215 1.50e-03 variation min6.5e-04 at chrom 18, max2.3e-03 at chrom 1 takes 12.3s\n",
      "Starting iteration 23\n",
      "\n",
      "PARAFAC2 re=0.215 1.35e-03 variation min5.9e-04 at chrom 18, max1.9e-03 at chrom 1 takes 12.1s\n",
      "Starting iteration 24\n",
      "\n",
      "PARAFAC2 re=0.215 1.21e-03 variation min5.2e-04 at chrom 18, max1.8e-03 at chrom 1 takes 10.9s\n",
      "start transform\n",
      "takes: 447.70 s\n"
     ]
    }
   ],
   "source": [
    "fh_model.run_model(dim1=.6,\n",
    "                rank=256,\n",
    "                n_iter_parafac=1,\n",
    "                extra=\"\")"
   ]
  },
  {
   "cell_type": "code",
   "execution_count": 20,
   "metadata": {},
   "outputs": [
    {
     "name": "stdout",
     "output_type": "stream",
     "text": [
      "fetching embedding\n"
     ]
    }
   ],
   "source": [
    "cell_embeddings = fh_model.fetch_cell_embedding(final_dim=256)['embed_all']"
   ]
  },
  {
   "cell_type": "code",
   "execution_count": 19,
   "metadata": {},
   "outputs": [
    {
     "name": "stdout",
     "output_type": "stream",
     "text": [
      "dict_keys(['embed_all', 'embed_raw', 'embed_l2_norm', 'restore_order', 'embed_correct_coverage_fh', 'embed_l2_norm_correct_coverage_fh'])\n"
     ]
    }
   ],
   "source": [
    "print (cell_embeddings.keys())"
   ]
  },
  {
   "cell_type": "code",
   "execution_count": 21,
   "metadata": {},
   "outputs": [
    {
     "data": {
      "image/png": "[encoded data removed]",
      "text/plain": [
       "<Figure size 1400x500 with 2 Axes>"
      ]
     },
     "metadata": {},
     "output_type": "display_data"
    }
   ],
   "source": [
    "from umap import UMAP\n",
    "from sklearn.decomposition import PCA\n",
    "import seaborn as sns\n",
    "import matplotlib.pyplot as plt\n",
    "cell_type = fh_model.label_info['lb']\n",
    "fig = plt.figure(figsize=(14, 5))\n",
    "ax = plt.subplot(1, 2, 1)\n",
    "vec = PCA(n_components=2).fit_transform(cell_embeddings)\n",
    "sns.scatterplot(x=vec[:, 0], y=vec[:, 1], hue=cell_type, ax=ax, s=6, linewidth=0)\n",
    "handles, labels = ax.get_legend_handles_labels()\n",
    "labels, handles = zip(*sorted(zip(labels, handles), key=lambda t: t[0]))\n",
    "ax.legend(handles=handles, labels=labels, bbox_to_anchor=(1.05, 1), loc=2, borderaxespad=0., ncol=1)\n",
    "ax = plt.subplot(1, 2, 2)\n",
    "vec = UMAP(n_components=2).fit_transform(cell_embeddings)\n",
    "sns.scatterplot(x=vec[:, 0], y=vec[:, 1], hue=cell_type, ax=ax, s=6, linewidth=0)\n",
    "handles, labels = ax.get_legend_handles_labels()\n",
    "labels, handles = zip(*sorted(zip(labels, handles), key=lambda t: t[0]))\n",
    "ax.legend(handles=handles, labels=labels, bbox_to_anchor=(1.05, 1), loc=2, borderaxespad=0., ncol=1)\n",
    "plt.tight_layout()\n",
    "plt.savefig(\"fasthigashi_embedding.png\")\n",
    "plt.show()"
   ]
  },
  {
   "cell_type": "code",
   "execution_count": 22,
   "metadata": {},
   "outputs": [
    {
     "data": {
      "text/plain": [
       "{'data_dir': '/cluster/home/Kangwen/dream/re_fasthigashi/LiMAC_500k',\n",
       " 'structured': True,\n",
       " 'input_format': 'higashi_v2',\n",
       " 'header_included': True,\n",
       " 'temp_dir': '/cluster/home/Kangwen/dream/re_fasthigashi/LiMAC_500k',\n",
       " 'genome_reference_path': '/cluster/home/Kangwen/common/hg38/hg38.fa.chrom.sizes',\n",
       " 'cytoband_path': '/cluster/home/Kangwen/dream/re_higashi/test1/cytoBand_hg38.txt',\n",
       " 'chrom_list': ['chr1',\n",
       "  'chr2',\n",
       "  'chr3',\n",
       "  'chr4',\n",
       "  'chr5',\n",
       "  'chr6',\n",
       "  'chr7',\n",
       "  'chr8',\n",
       "  'chr9',\n",
       "  'chr10',\n",
       "  'chr11',\n",
       "  'chr12',\n",
       "  'chr13',\n",
       "  'chr14',\n",
       "  'chr15',\n",
       "  'chr16',\n",
       "  'chr17',\n",
       "  'chr18',\n",
       "  'chr19',\n",
       "  'chr20',\n",
       "  'chr21',\n",
       "  'chr22'],\n",
       " 'resolution': 500000,\n",
       " 'resolution_cell': 500000,\n",
       " 'resolution_fh': [500000],\n",
       " 'embedding_name': 'test',\n",
       " 'minimum_distance': 500000,\n",
       " 'maximum_distance': -1,\n",
       " 'local_transfer_range': 0,\n",
       " 'loss_mode': 'zinb',\n",
       " 'dimensions': 128,\n",
       " 'impute_list': ['chr1',\n",
       "  'chr2',\n",
       "  'chr3',\n",
       "  'chr4',\n",
       "  'chr5',\n",
       "  'chr6',\n",
       "  'chr7',\n",
       "  'chr8',\n",
       "  'chr9',\n",
       "  'chr10',\n",
       "  'chr11',\n",
       "  'chr12',\n",
       "  'chr13',\n",
       "  'chr14',\n",
       "  'chr15',\n",
       "  'chr16',\n",
       "  'chr17',\n",
       "  'chr18',\n",
       "  'chr19',\n",
       "  'chr20',\n",
       "  'chr21',\n",
       "  'chr22'],\n",
       " 'neighbor_num': 5,\n",
       " 'cpu_num': 10,\n",
       " 'gpu_num': 8,\n",
       " 'embedding_epoch': 60,\n",
       " 'correct_be_impute': True}"
      ]
     },
     "execution_count": 22,
     "metadata": {},
     "output_type": "execute_result"
    }
   ],
   "source": []
  },
  {
   "cell_type": "code",
   "execution_count": null,
   "metadata": {},
   "outputs": [],
   "source": []
  }
 ],
 "metadata": {
  "kernelspec": {
   "display_name": "ckw",
   "language": "python",
   "name": "python3"
  },
  "language_info": {
   "codemirror_mode": {
    "name": "ipython",
    "version": 3
   },
   "file_extension": ".py",
   "mimetype": "text/x-python",
   "name": "python",
   "nbconvert_exporter": "python",
   "pygments_lexer": "ipython3",
   "version": "3.9.18"
  }
 },
 "nbformat": 4,
 "nbformat_minor": 2
}
