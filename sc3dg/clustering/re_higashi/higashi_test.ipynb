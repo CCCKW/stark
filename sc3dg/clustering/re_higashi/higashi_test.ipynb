{
 "cells": [
  {
   "cell_type": "code",
   "execution_count": 3,
   "metadata": {},
   "outputs": [],
   "source": [
    "import os\n",
    "import pickle\n",
    "import numpy as np\n",
    "import matplotlib.pyplot as plt"
   ]
  },
  {
   "cell_type": "code",
   "execution_count": 4,
   "metadata": {},
   "outputs": [],
   "source": [
    "from higashi2.Higashi_wrapper import *\n",
    "config = \"/cluster/home/Kangwen/dream/re_higashi/test1/config_ckw.JSON\"\n",
    "higashi_model = Higashi(config)"
   ]
  },
  {
   "cell_type": "code",
   "execution_count": 5,
   "metadata": {},
   "outputs": [
    {
     "name": "stdout",
     "output_type": "stream",
     "text": [
      "generating start/end dict for chromosome\n",
      "extracting from filelist.txt\n"
     ]
    },
    {
     "data": {
      "application/vnd.jupyter.widget-view+json": {
       "model_id": "4781e7564c644e6c8291ff974be85a7a",
       "version_major": 2,
       "version_minor": 0
      },
      "text/plain": [
       "  0%|          | 0/389 [00:00<?, ?it/s]"
      ]
     },
     "metadata": {},
     "output_type": "display_data"
    },
    {
     "name": "stdout",
     "output_type": "stream",
     "text": [
      "generating contact maps for baseline\n",
      "data loaded\n",
      "31004372 False\n",
      "chr2 split_num 1\n"
     ]
    },
    {
     "data": {
      "application/vnd.jupyter.widget-view+json": {
       "model_id": "382128d514534ede80cb962ea62c9143",
       "version_major": 2,
       "version_minor": 0
      },
      "text/plain": [
       "creating matrices tasks:   0%|          | 0/22 [00:00<?, ?it/s]"
      ]
     },
     "metadata": {},
     "output_type": "display_data"
    },
    {
     "name": "stdout",
     "output_type": "stream",
     "text": [
      "total_feats_size 252\n"
     ]
    },
    {
     "data": {
      "application/vnd.jupyter.widget-view+json": {
       "model_id": "23de78f33feb4a128daba5ad7743c7ea",
       "version_major": 2,
       "version_minor": 0
      },
      "text/plain": [
       "  0%|          | 0/22 [00:00<?, ?it/s]"
      ]
     },
     "metadata": {},
     "output_type": "display_data"
    }
   ],
   "source": [
    "higashi_model.process_data()"
   ]
  },
  {
   "cell_type": "code",
   "execution_count": 17,
   "metadata": {},
   "outputs": [
    {
     "data": {
      "text/plain": [
       "array(['BJ', 'BJ', 'BJ', 'BJ', 'BJ', 'BJ', 'BJ', 'BJ', 'BJ', 'BJ', 'BJ',\n",
       "       'BJ', 'BJ', 'BJ', 'BJ', 'BJ', 'BJ', 'BJ', 'BJ', 'BJ', 'BJ', 'BJ',\n",
       "       'BJ', 'BJ', 'BJ', 'BJ', 'BJ', 'BJ', 'BJ', 'BJ', 'BJ', 'BJ', 'BJ',\n",
       "       'BJ', 'BJ', 'BJ', 'BJ', 'BJ', 'BJ', 'BJ', 'BJ', 'BJ', 'BJ', 'BJ',\n",
       "       'BJ', 'BJ', 'BJ', 'BJ', 'BJ', 'BJ', 'BJ', 'BJ', 'BJ', 'BJ', 'BJ',\n",
       "       'BJ', 'BJ', 'BJ', 'BJ', 'BJ', 'BJ', 'BJ', 'BJ', 'K562', 'K562',\n",
       "       'K562', 'K562', 'K562', 'K562', 'K562', 'K562', 'K562', 'K562',\n",
       "       'K562', 'K562', 'K562', 'K562', 'K562', 'K562', 'K562', 'K562',\n",
       "       'K562', 'K562', 'K562', 'K562', 'K562', 'K562', 'K562', 'K562',\n",
       "       'K562', 'K562', 'K562', 'K562', 'K562', 'K562', 'K562', 'K562',\n",
       "       'K562', 'K562', 'K562', 'K562', 'K562', 'K562', 'K562', 'K562',\n",
       "       'K562', 'K562', 'K562', 'K562', 'K562', 'K562', 'K562', 'K562',\n",
       "       'K562', 'K562', 'K562', 'K562', 'K562', 'K562', 'K562', 'K562',\n",
       "       'K562', 'K562', 'K562', 'K562', 'K562', 're', 're', 're', 're',\n",
       "       're', 're', 're', 're', 're', 're', 're', 're', 're', 're', 're',\n",
       "       're', 're', 're', 're', 're', 're', 're', 're', 're', 're', 're',\n",
       "       're', 're', 're', 're', 're', 're', 're', 're', 're', 're', 're',\n",
       "       're', 're', 're', 're', 're', 'GM12878', 'GM12878', 'GM12878',\n",
       "       'GM12878', 'GM12878', 'GM12878', 'GM12878', 'GM12878', 'GM12878',\n",
       "       'GM12878', 'GM12878', 'GM12878', 'GM12878', 'GM12878', 'GM12878',\n",
       "       'GM12878', 'GM12878', 'GM12878', 'GM12878', 'GM12878', 'GM12878',\n",
       "       'GM12878', 'GM12878', 'GM12878', 'GM12878', 'GM12878', 'GM12878',\n",
       "       'GM12878', 'GM12878', 'GM12878', 'GM12878', 'GM12878', 'GM12878',\n",
       "       'GM12878', 'GM12878', 'GM12878', 'GM12878', 'GM12878', 'GM12878',\n",
       "       'GM12878', 'GM12878', 'GM12878', 'GM12878', 'GM12878', 'GM12878',\n",
       "       'GM12878', 'GM12878', 'GM12878', 'GM12878', 'GM12878', 'GM12878',\n",
       "       'GM12878', 'GM12878', 'GM12878', 'GM12878', 'GM12878', 'GM12878',\n",
       "       'GM12878', 'GM12878', 'GM12878', 'GM12878', 'GM12878', 'GM12878',\n",
       "       'GM12878', 'GM12878', 'GM12878', 'GM12878', 'GM12878', 'GM12878',\n",
       "       'GM12878', 'GM12878', 'GM12878', 'GM12878', 'GM12878', 'GM12878',\n",
       "       'GM12878', 'GM12878', 'GM12878', 'GM12878', 'GM12878', 'GM12878',\n",
       "       'GM12878', 'GM12878', 'GM12878', 'GM12878', 'GM12878', 'GM12878',\n",
       "       'GM12878', 'GM12878', 'GM12878', 'GM12878', 'GM12878', 'GM12878',\n",
       "       'GM12878', 'GM12878', 'GM12878', 'GM12878', 'GM12878', 'GM12878',\n",
       "       'GM12878', 'GM12878', 'GM12878', 'GM12878', 'GM12878', 'GM12878',\n",
       "       'GM12878', 'GM12878', 'GM12878', 'GM12878', 'GM12878', 'GM12878',\n",
       "       'GM12878', 'GM12878', 'GM12878', 'GM12878', 'GM12878', 'GM12878',\n",
       "       'GM12878', 'GM12878', 'GM12878', 'GM12878', 'GM12878', 'GM12878',\n",
       "       'GM12878', 'GM12878', 'GM12878', 'GM12878', 'GM12878', 'GM12878',\n",
       "       'GM12878', 'GM12878', 'GM12878', 'GM12878', 'GM12878', 'GM12878',\n",
       "       'GM12878', 'GM12878', 'GM12878', 'GM12878', 'GM12878', 'GM12878',\n",
       "       'GM12878', 'GM12878', 'GM12878', 'GM12878', 'GM12878', 'GM12878',\n",
       "       'GM12878', 'GM12878', 'GM12878', 'GM12878', 'GM12878', 'GM12878',\n",
       "       'GM12878', 'GM12878', 'GM12878', 'GM12878', 'GM12878', 'GM12878',\n",
       "       'GM12878', 'GM12878', 'GM12878', 'GM12878', 'GM12878', 'GM12878',\n",
       "       'GM12878', 'GM12878', 'GM12878', 'GM12878', 'GM12878', 'GM12878',\n",
       "       'GM12878', 'GM12878', 'GM12878', 'GM12878', 'GM12878', 'GM12878',\n",
       "       'GM12878', 'GM12878', 'GM12878', 'GM12878', 'GM12878', 'GM12878',\n",
       "       'GM12878', 'GM12878', 'GM12878', 'GM12878', 'GM12878', 'GM12878',\n",
       "       'GM12878', 'GM12878', 'GM12878', 'GM12878', 'GM12878', 'GM12878',\n",
       "       'GM12878', 'GM12878', 'GM12878', 'GM12878', 'GM12878', 'GM12878',\n",
       "       'GM12878', 'GM12878', 'GM12878', 'GM12878', 'GM12878', 'GM12878',\n",
       "       'GM12878', 'GM12878', 'GM12878', 'GM12878', 'GM12878', 'GM12878',\n",
       "       'GM12878', 'GM12878', 'GM12878', 'GM12878', 'GM12878', 'GM12878',\n",
       "       'GM12878', 'GM12878'], dtype='<U7')"
      ]
     },
     "execution_count": 17,
     "metadata": {},
     "output_type": "execute_result"
    }
   ],
   "source": []
  },
  {
   "cell_type": "code",
   "execution_count": 7,
   "metadata": {},
   "outputs": [],
   "source": [
    "import pickle\n",
    "import numpy as np\n",
    "filelist = pd.read_csv(higashi_model.config['data_dir'] + '/filelist.txt',header=None)\n",
    "nums = filelist.shape[0]\n",
    "label_info = {'name': np.arange(nums ),\n",
    "              'age': np.ones(nums),\n",
    "              }\n",
    "\n",
    "pickle.dump(label_info, open(higashi_model.config['data_dir'] + \"/label_info.pickle\", \"wb\"))"
   ]
  },
  {
   "cell_type": "code",
   "execution_count": 8,
   "metadata": {},
   "outputs": [
    {
     "name": "stdout",
     "output_type": "stream",
     "text": [
      "cpu_num 10\n"
     ]
    },
    {
     "name": "stdout",
     "output_type": "stream",
     "text": [
      "setting to gpu:0\n",
      "training on data from: ['chr1', 'chr2', 'chr3', 'chr4', 'chr5', 'chr6', 'chr7', 'chr8', 'chr9', 'chr10', 'chr11', 'chr12', 'chr13', 'chr14', 'chr15', 'chr16', 'chr17', 'chr18', 'chr19', 'chr20', 'chr21', 'chr22']\n",
      "total_sparsity_cell 0.19943268213304405\n",
      "contractive loss\n",
      "batch_size 512\n",
      "Node type num [389 498 485 397 381 364 342 319 291 277 268 271 267 229 215 204 181 167\n",
      " 161 118 129  94 102] [ 389  887 1372 1769 2150 2514 2856 3175 3466 3743 4011 4282 4549 4778\n",
      " 4993 5197 5378 5545 5706 5824 5953 6047 6149]\n",
      "start making attribute\n"
     ]
    },
    {
     "data": {
      "application/vnd.jupyter.widget-view+json": {
       "model_id": "53849ec578b3482992e20086b1a1984f",
       "version_major": 2,
       "version_minor": 0
      },
      "text/plain": [
       "  0%|          | 0/300 [00:00<?, ?it/s]"
      ]
     },
     "metadata": {},
     "output_type": "display_data"
    },
    {
     "name": "stdout",
     "output_type": "stream",
     "text": [
      "loss 0.08652155101299286 loss best 0.0845145732164383 epochs 299\n",
      "\n",
      "initializing data generator\n"
     ]
    },
    {
     "data": {
      "application/vnd.jupyter.widget-view+json": {
       "model_id": "cadb54c1b9624d0cb8c844b2ea8d50a9",
       "version_major": 2,
       "version_minor": 0
      },
      "text/plain": [
       "  0%|          | 0/22 [00:00<?, ?it/s]"
      ]
     },
     "metadata": {},
     "output_type": "display_data"
    },
    {
     "name": "stdout",
     "output_type": "stream",
     "text": [
      "initializing data generator\n"
     ]
    },
    {
     "data": {
      "application/vnd.jupyter.widget-view+json": {
       "model_id": "daaa1c08784d43c0a8131e17c311218e",
       "version_major": 2,
       "version_minor": 0
      },
      "text/plain": [
       "  0%|          | 0/22 [00:00<?, ?it/s]"
      ]
     },
     "metadata": {},
     "output_type": "display_data"
    }
   ],
   "source": [
    "higashi_model.prep_model()"
   ]
  },
  {
   "cell_type": "code",
   "execution_count": 9,
   "metadata": {},
   "outputs": [
    {
     "name": "stdout",
     "output_type": "stream",
     "text": [
      "First stage training\n",
      "[ Epoch 0 of 10 ]\n"
     ]
    },
    {
     "data": {
      "application/vnd.jupyter.widget-view+json": {
       "model_id": "076a11ce977347e9a50d6437e04c7678",
       "version_major": 2,
       "version_minor": 0
      },
      "text/plain": [
       " - (Training) :   0%|          | 0/1000 [00:00<?, ?it/s]"
      ]
     },
     "metadata": {},
     "output_type": "display_data"
    },
    {
     "name": "stdout",
     "output_type": "stream",
     "text": [
      "- (Train)   bce:  0.6934, mse:  0.0663,  acc: 61.524 %, pearson: 0.305, spearman: 0.335, elapse: 32.129 s\n"
     ]
    },
    {
     "data": {
      "application/vnd.jupyter.widget-view+json": {
       "model_id": "1bfbca161dfe426f9e9abb0c8e0ceebc",
       "version_major": 2,
       "version_minor": 0
      },
      "text/plain": [
       "  - (Validation)   :   0%|          | 0/10 [00:00<?, ?it/s]"
      ]
     },
     "metadata": {},
     "output_type": "display_data"
    },
    {
     "name": "stdout",
     "output_type": "stream",
     "text": [
      "- (Valid) bce:  0.6334,  acc: 81.338 %,pearson: 0.466, spearman: 0.483,elapse: 0.097 s\n",
      "update_rate: 0.000000\t0.000000\tpair_ratio: 0.1\t\n",
      "[ Epoch 1 of 10 ]\n"
     ]
    },
    {
     "data": {
      "application/vnd.jupyter.widget-view+json": {
       "model_id": "5178549095ff4e409c98015984662911",
       "version_major": 2,
       "version_minor": 0
      },
      "text/plain": [
       " - (Training) :   0%|          | 0/1000 [00:00<?, ?it/s]"
      ]
     },
     "metadata": {},
     "output_type": "display_data"
    },
    {
     "name": "stdout",
     "output_type": "stream",
     "text": [
      "- (Train)   bce:  0.6248, mse:  0.0502,  acc: 80.875 %, pearson: 0.489, spearman: 0.480, elapse: 26.834 s\n"
     ]
    },
    {
     "data": {
      "application/vnd.jupyter.widget-view+json": {
       "model_id": "5784b845be4e4d6d9f9a05ef290fe481",
       "version_major": 2,
       "version_minor": 0
      },
      "text/plain": [
       "  - (Validation)   :   0%|          | 0/10 [00:00<?, ?it/s]"
      ]
     },
     "metadata": {},
     "output_type": "display_data"
    },
    {
     "name": "stdout",
     "output_type": "stream",
     "text": [
      "- (Valid) bce:  0.5987,  acc: 81.706 %,pearson: 0.532, spearman: 0.511,elapse: 0.130 s\n",
      "update_rate: 0.036311\t0.125786\tpair_ratio: 0.2\t\n",
      "[ Epoch 2 of 10 ]\n"
     ]
    },
    {
     "data": {
      "application/vnd.jupyter.widget-view+json": {
       "model_id": "2d608620781646ee8293d9d7009b11cd",
       "version_major": 2,
       "version_minor": 0
      },
      "text/plain": [
       " - (Training) :   0%|          | 0/1000 [00:00<?, ?it/s]"
      ]
     },
     "metadata": {},
     "output_type": "display_data"
    },
    {
     "name": "stdout",
     "output_type": "stream",
     "text": [
      "- (Train)   bce:  0.6089, mse:  0.0472,  acc: 82.147 %, pearson: 0.529, spearman: 0.492, elapse: 26.278 s\n"
     ]
    },
    {
     "data": {
      "application/vnd.jupyter.widget-view+json": {
       "model_id": "4ba319e087f741bd98be6dc291ca6f65",
       "version_major": 2,
       "version_minor": 0
      },
      "text/plain": [
       "  - (Validation)   :   0%|          | 0/10 [00:00<?, ?it/s]"
      ]
     },
     "metadata": {},
     "output_type": "display_data"
    },
    {
     "name": "stdout",
     "output_type": "stream",
     "text": [
      "- (Valid) bce:  0.6082,  acc: 83.721 %,pearson: 0.551, spearman: 0.494,elapse: 0.094 s\n",
      "update_rate: 0.003316\t0.012063\tpair_ratio: 0.3\t\n",
      "[ Epoch 3 of 10 ]\n"
     ]
    },
    {
     "data": {
      "application/vnd.jupyter.widget-view+json": {
       "model_id": "a20ff113b1b14c92be76470d289eb911",
       "version_major": 2,
       "version_minor": 0
      },
      "text/plain": [
       " - (Training) :   0%|          | 0/1000 [00:00<?, ?it/s]"
      ]
     },
     "metadata": {},
     "output_type": "display_data"
    },
    {
     "name": "stdout",
     "output_type": "stream",
     "text": [
      "- (Train)   bce:  0.6010, mse:  0.0459,  acc: 82.626 %, pearson: 0.544, spearman: 0.499, elapse: 26.955 s\n"
     ]
    },
    {
     "data": {
      "application/vnd.jupyter.widget-view+json": {
       "model_id": "2a82be79aa564e28b06fa15d8920852e",
       "version_major": 2,
       "version_minor": 0
      },
      "text/plain": [
       "  - (Validation)   :   0%|          | 0/10 [00:00<?, ?it/s]"
      ]
     },
     "metadata": {},
     "output_type": "display_data"
    },
    {
     "name": "stdout",
     "output_type": "stream",
     "text": [
      "- (Valid) bce:  0.5885,  acc: 83.356 %,pearson: 0.574, spearman: 0.519,elapse: 0.092 s\n",
      "update_rate: 0.001566\t0.002869\tpair_ratio: 0.4\t\n",
      "[ Epoch 4 of 10 ]\n"
     ]
    },
    {
     "data": {
      "application/vnd.jupyter.widget-view+json": {
       "model_id": "3547d5256c8e4c4f8ca6e9ed97aaf215",
       "version_major": 2,
       "version_minor": 0
      },
      "text/plain": [
       " - (Training) :   0%|          | 0/1000 [00:00<?, ?it/s]"
      ]
     },
     "metadata": {},
     "output_type": "display_data"
    },
    {
     "name": "stdout",
     "output_type": "stream",
     "text": [
      "- (Train)   bce:  0.5983, mse:  0.0452,  acc: 82.833 %, pearson: 0.544, spearman: 0.501, elapse: 26.739 s\n"
     ]
    },
    {
     "data": {
      "application/vnd.jupyter.widget-view+json": {
       "model_id": "70d8e4ba8a6a4fd1bafa3b2f467705ae",
       "version_major": 2,
       "version_minor": 0
      },
      "text/plain": [
       "  - (Validation)   :   0%|          | 0/10 [00:00<?, ?it/s]"
      ]
     },
     "metadata": {},
     "output_type": "display_data"
    },
    {
     "name": "stdout",
     "output_type": "stream",
     "text": [
      "- (Valid) bce:  0.5773,  acc: 83.525 %,pearson: 0.608, spearman: 0.519,elapse: 0.078 s\n",
      "update_rate: 0.001653\t0.003102\tpair_ratio: 0.5\t\n",
      "[ Epoch 5 of 10 ]\n"
     ]
    },
    {
     "data": {
      "application/vnd.jupyter.widget-view+json": {
       "model_id": "b6c234fc74a342de96725d5866b6ac87",
       "version_major": 2,
       "version_minor": 0
      },
      "text/plain": [
       " - (Training) :   0%|          | 0/1000 [00:00<?, ?it/s]"
      ]
     },
     "metadata": {},
     "output_type": "display_data"
    },
    {
     "name": "stdout",
     "output_type": "stream",
     "text": [
      "- (Train)   bce:  0.5948, mse:  0.0449,  acc: 82.940 %, pearson: 0.564, spearman: 0.504, elapse: 26.036 s\n"
     ]
    },
    {
     "data": {
      "application/vnd.jupyter.widget-view+json": {
       "model_id": "b1dff32069024ed78ac5c7a678e8d2fa",
       "version_major": 2,
       "version_minor": 0
      },
      "text/plain": [
       "  - (Validation)   :   0%|          | 0/10 [00:00<?, ?it/s]"
      ]
     },
     "metadata": {},
     "output_type": "display_data"
    },
    {
     "name": "stdout",
     "output_type": "stream",
     "text": [
      "- (Valid) bce:  0.5937,  acc: 83.415 %,pearson: 0.592, spearman: 0.512,elapse: 0.090 s\n",
      "update_rate: 0.001218\t0.003096\t\n",
      "[ Epoch 6 of 10 ]\n"
     ]
    },
    {
     "data": {
      "application/vnd.jupyter.widget-view+json": {
       "model_id": "5913e4a1bb664cdf81392e2386ba8f5d",
       "version_major": 2,
       "version_minor": 0
      },
      "text/plain": [
       " - (Training) :   0%|          | 0/1000 [00:00<?, ?it/s]"
      ]
     },
     "metadata": {},
     "output_type": "display_data"
    },
    {
     "name": "stdout",
     "output_type": "stream",
     "text": [
      "- (Train)   bce:  0.5938, mse:  0.0445,  acc: 83.132 %, pearson: 0.554, spearman: 0.503, elapse: 25.927 s\n"
     ]
    },
    {
     "data": {
      "application/vnd.jupyter.widget-view+json": {
       "model_id": "25e9231ec3e1449491941f9ade405dd0",
       "version_major": 2,
       "version_minor": 0
      },
      "text/plain": [
       "  - (Validation)   :   0%|          | 0/10 [00:00<?, ?it/s]"
      ]
     },
     "metadata": {},
     "output_type": "display_data"
    },
    {
     "name": "stdout",
     "output_type": "stream",
     "text": [
      "- (Valid) bce:  0.5807,  acc: 83.711 %,pearson: 0.577, spearman: 0.518,elapse: 0.082 s\n",
      "update_rate: 0.001143\t0.002864\t\n",
      "[ Epoch 7 of 10 ]\n"
     ]
    },
    {
     "data": {
      "application/vnd.jupyter.widget-view+json": {
       "model_id": "0be50f049fbb459fae7096c1448d757a",
       "version_major": 2,
       "version_minor": 0
      },
      "text/plain": [
       " - (Training) :   0%|          | 0/1000 [00:00<?, ?it/s]"
      ]
     },
     "metadata": {},
     "output_type": "display_data"
    },
    {
     "name": "stdout",
     "output_type": "stream",
     "text": [
      "- (Train)   bce:  0.5917, mse:  0.0443,  acc: 83.165 %, pearson: 0.559, spearman: 0.506, elapse: 26.107 s\n"
     ]
    },
    {
     "data": {
      "application/vnd.jupyter.widget-view+json": {
       "model_id": "a31309f94fc44708b02d73c38d19e59d",
       "version_major": 2,
       "version_minor": 0
      },
      "text/plain": [
       "  - (Validation)   :   0%|          | 0/10 [00:00<?, ?it/s]"
      ]
     },
     "metadata": {},
     "output_type": "display_data"
    },
    {
     "name": "stdout",
     "output_type": "stream",
     "text": [
      "- (Valid) bce:  0.5982,  acc: 82.116 %,pearson: 0.574, spearman: 0.492,elapse: 0.073 s\n",
      "update_rate: 0.001143\t0.002026\t\n",
      "[ Epoch 8 of 10 ]\n"
     ]
    },
    {
     "data": {
      "application/vnd.jupyter.widget-view+json": {
       "model_id": "c9ba21b33c5443ab8746f1d6d6e47d50",
       "version_major": 2,
       "version_minor": 0
      },
      "text/plain": [
       " - (Training) :   0%|          | 0/1000 [00:00<?, ?it/s]"
      ]
     },
     "metadata": {},
     "output_type": "display_data"
    },
    {
     "name": "stdout",
     "output_type": "stream",
     "text": [
      "- (Train)   bce:  0.5899, mse:  0.0444,  acc: 83.308 %, pearson: 0.577, spearman: 0.506, elapse: 25.773 s\n"
     ]
    },
    {
     "data": {
      "application/vnd.jupyter.widget-view+json": {
       "model_id": "32e69ce8e9cd4e0a8132ccfbd7cbb0b6",
       "version_major": 2,
       "version_minor": 0
      },
      "text/plain": [
       "  - (Validation)   :   0%|          | 0/10 [00:00<?, ?it/s]"
      ]
     },
     "metadata": {},
     "output_type": "display_data"
    },
    {
     "name": "stdout",
     "output_type": "stream",
     "text": [
      "- (Valid) bce:  0.5905,  acc: 82.386 %,pearson: 0.579, spearman: 0.505,elapse: 0.078 s\n",
      "update_rate: 0.000886\t0.001840\t\n",
      "[ Epoch 9 of 10 ]\n"
     ]
    },
    {
     "data": {
      "application/vnd.jupyter.widget-view+json": {
       "model_id": "1b8e3221d4d14641afbc3b3b46c48009",
       "version_major": 2,
       "version_minor": 0
      },
      "text/plain": [
       " - (Training) :   0%|          | 0/1000 [00:00<?, ?it/s]"
      ]
     },
     "metadata": {},
     "output_type": "display_data"
    },
    {
     "name": "stdout",
     "output_type": "stream",
     "text": [
      "- (Train)   bce:  0.5881, mse:  0.0441,  acc: 83.285 %, pearson: 0.584, spearman: 0.507, elapse: 26.455 s\n"
     ]
    },
    {
     "data": {
      "application/vnd.jupyter.widget-view+json": {
       "model_id": "38951a7a805c47e98124a2f071f89449",
       "version_major": 2,
       "version_minor": 0
      },
      "text/plain": [
       "  - (Validation)   :   0%|          | 0/10 [00:00<?, ?it/s]"
      ]
     },
     "metadata": {},
     "output_type": "display_data"
    },
    {
     "name": "stdout",
     "output_type": "stream",
     "text": [
      "- (Valid) bce:  0.5870,  acc: 83.044 %,pearson: 0.589, spearman: 0.512,elapse: 0.082 s\n",
      "update_rate: 0.000661\t0.001965\t\n"
     ]
    },
    {
     "data": {
      "application/vnd.jupyter.widget-view+json": {
       "model_id": "c39985137d6640e2a044b3121a53ec7e",
       "version_major": 2,
       "version_minor": 0
      },
      "text/plain": [
       "  - (Validation)   :   0%|          | 0/10 [00:00<?, ?it/s]"
      ]
     },
     "metadata": {},
     "output_type": "display_data"
    },
    {
     "name": "stdout",
     "output_type": "stream",
     "text": [
      "  - (Validation-hyper) bce:  0.6488,  acc: 76.218 %, auc: 0.538, aupr: 0.457,elapse: 1.338 s\n"
     ]
    }
   ],
   "source": [
    "higashi_model.train_for_embeddings()"
   ]
  },
  {
   "cell_type": "code",
   "execution_count": 10,
   "metadata": {},
   "outputs": [
    {
     "name": "stdout",
     "output_type": "stream",
     "text": [
      "(389, 128)\n"
     ]
    }
   ],
   "source": [
    "cell_embeddings = higashi_model.fetch_cell_embeddings()\n",
    "print (cell_embeddings.shape)"
   ]
  },
  {
   "cell_type": "code",
   "execution_count": 11,
   "metadata": {},
   "outputs": [
    {
     "data": {
      "image/png": "[encoded data removed]",
      "text/plain": [
       "<Figure size 1400x500 with 2 Axes>"
      ]
     },
     "metadata": {},
     "output_type": "display_data"
    }
   ],
   "source": [
    "from umap import UMAP\n",
    "from sklearn.decomposition import PCA\n",
    "import seaborn as sns\n",
    "import matplotlib.pyplot as plt\n",
    "cell_type = higashi_model.label_info['name']\n",
    "fig = plt.figure(figsize=(14, 5))\n",
    "ax = plt.subplot(1, 2, 1)\n",
    "vec = PCA(n_components=2).fit_transform(cell_embeddings)\n",
    "sns.scatterplot(x=vec[:, 0], y=vec[:, 1], hue=cell_type, ax=ax, s=6, linewidth=0)\n",
    "handles, labels = ax.get_legend_handles_labels()\n",
    "labels, handles = zip(*sorted(zip(labels, handles), key=lambda t: t[0]))\n",
    "ax.legend(handles=handles, labels=labels, bbox_to_anchor=(1.05, 1), loc=2, borderaxespad=0., ncol=1)\n",
    "ax = plt.subplot(1, 2, 2)\n",
    "vec = UMAP(n_components=2).fit_transform(cell_embeddings)\n",
    "sns.scatterplot(x=vec[:, 0], y=vec[:, 1], hue=cell_type, ax=ax, s=6, linewidth=0)\n",
    "handles, labels = ax.get_legend_handles_labels()\n",
    "labels, handles = zip(*sorted(zip(labels, handles), key=lambda t: t[0]))\n",
    "ax.legend(handles=handles, labels=labels, bbox_to_anchor=(1.05, 1), loc=2, borderaxespad=0., ncol=1)\n",
    "plt.tight_layout()\n",
    "plt.savefig(\"higashi_embedding.png\")\n",
    "plt.show()"
   ]
  },
  {
   "cell_type": "code",
   "execution_count": null,
   "metadata": {},
   "outputs": [],
   "source": []
  }
 ],
 "metadata": {
  "kernelspec": {
   "display_name": "ckw",
   "language": "python",
   "name": "python3"
  },
  "language_info": {
   "codemirror_mode": {
    "name": "ipython",
    "version": 3
   },
   "file_extension": ".py",
   "mimetype": "text/x-python",
   "name": "python",
   "nbconvert_exporter": "python",
   "pygments_lexer": "ipython3",
   "version": "3.9.18"
  }
 },
 "nbformat": 4,
 "nbformat_minor": 2
}
